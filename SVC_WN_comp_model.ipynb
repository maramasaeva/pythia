{
  "cells": [
    {
      "cell_type": "code",
      "execution_count": null,
      "metadata": {
        "id": "D6j7mqfRrG83",
        "outputId": "4eb5d5f7-9fad-441f-d0f9-76bd6978d2b9",
        "colab": {
          "base_uri": "https://localhost:8080/"
        }
      },
      "outputs": [
        {
          "output_type": "stream",
          "name": "stdout",
          "text": [
            "Looking in indexes: https://pypi.org/simple, https://us-python.pkg.dev/colab-wheels/public/simple/\n",
            "Requirement already satisfied: pandas in /usr/local/lib/python3.7/dist-packages (1.3.5)\n",
            "Requirement already satisfied: numpy>=1.17.3 in /usr/local/lib/python3.7/dist-packages (from pandas) (1.21.6)\n",
            "Requirement already satisfied: pytz>=2017.3 in /usr/local/lib/python3.7/dist-packages (from pandas) (2022.1)\n",
            "Requirement already satisfied: python-dateutil>=2.7.3 in /usr/local/lib/python3.7/dist-packages (from pandas) (2.8.2)\n",
            "Requirement already satisfied: six>=1.5 in /usr/local/lib/python3.7/dist-packages (from python-dateutil>=2.7.3->pandas) (1.15.0)\n",
            "Looking in indexes: https://pypi.org/simple, https://us-python.pkg.dev/colab-wheels/public/simple/\n",
            "Requirement already satisfied: matplotlib in /usr/local/lib/python3.7/dist-packages (3.2.2)\n",
            "Requirement already satisfied: pyparsing!=2.0.4,!=2.1.2,!=2.1.6,>=2.0.1 in /usr/local/lib/python3.7/dist-packages (from matplotlib) (3.0.9)\n",
            "Requirement already satisfied: numpy>=1.11 in /usr/local/lib/python3.7/dist-packages (from matplotlib) (1.21.6)\n",
            "Requirement already satisfied: cycler>=0.10 in /usr/local/lib/python3.7/dist-packages (from matplotlib) (0.11.0)\n",
            "Requirement already satisfied: python-dateutil>=2.1 in /usr/local/lib/python3.7/dist-packages (from matplotlib) (2.8.2)\n",
            "Requirement already satisfied: kiwisolver>=1.0.1 in /usr/local/lib/python3.7/dist-packages (from matplotlib) (1.4.4)\n",
            "Requirement already satisfied: typing-extensions in /usr/local/lib/python3.7/dist-packages (from kiwisolver>=1.0.1->matplotlib) (4.1.1)\n",
            "Requirement already satisfied: six>=1.5 in /usr/local/lib/python3.7/dist-packages (from python-dateutil>=2.1->matplotlib) (1.15.0)\n",
            "Looking in indexes: https://pypi.org/simple, https://us-python.pkg.dev/colab-wheels/public/simple/\n",
            "\u001b[31mERROR: Could not find a version that satisfies the requirement string (from versions: none)\u001b[0m\n",
            "\u001b[31mERROR: No matching distribution found for string\u001b[0m\n",
            "Looking in indexes: https://pypi.org/simple, https://us-python.pkg.dev/colab-wheels/public/simple/\n",
            "Requirement already satisfied: nltk in /usr/local/lib/python3.7/dist-packages (3.7)\n",
            "Requirement already satisfied: joblib in /usr/local/lib/python3.7/dist-packages (from nltk) (1.1.0)\n",
            "Requirement already satisfied: tqdm in /usr/local/lib/python3.7/dist-packages (from nltk) (4.64.0)\n",
            "Requirement already satisfied: regex>=2021.8.3 in /usr/local/lib/python3.7/dist-packages (from nltk) (2022.6.2)\n",
            "Requirement already satisfied: click in /usr/local/lib/python3.7/dist-packages (from nltk) (7.1.2)\n",
            "Looking in indexes: https://pypi.org/simple, https://us-python.pkg.dev/colab-wheels/public/simple/\n",
            "Requirement already satisfied: numpy in /usr/local/lib/python3.7/dist-packages (1.21.6)\n",
            "Looking in indexes: https://pypi.org/simple, https://us-python.pkg.dev/colab-wheels/public/simple/\n",
            "Requirement already satisfied: sklearn in /usr/local/lib/python3.7/dist-packages (0.0)\n",
            "Requirement already satisfied: scikit-learn in /usr/local/lib/python3.7/dist-packages (from sklearn) (1.0.2)\n",
            "Requirement already satisfied: numpy>=1.14.6 in /usr/local/lib/python3.7/dist-packages (from scikit-learn->sklearn) (1.21.6)\n",
            "Requirement already satisfied: joblib>=0.11 in /usr/local/lib/python3.7/dist-packages (from scikit-learn->sklearn) (1.1.0)\n",
            "Requirement already satisfied: threadpoolctl>=2.0.0 in /usr/local/lib/python3.7/dist-packages (from scikit-learn->sklearn) (3.1.0)\n",
            "Requirement already satisfied: scipy>=1.1.0 in /usr/local/lib/python3.7/dist-packages (from scikit-learn->sklearn) (1.7.3)\n",
            "Looking in indexes: https://pypi.org/simple, https://us-python.pkg.dev/colab-wheels/public/simple/\n",
            "Requirement already satisfied: xgboost in /usr/local/lib/python3.7/dist-packages (0.90)\n",
            "Requirement already satisfied: scipy in /usr/local/lib/python3.7/dist-packages (from xgboost) (1.7.3)\n",
            "Requirement already satisfied: numpy in /usr/local/lib/python3.7/dist-packages (from xgboost) (1.21.6)\n",
            "Looking in indexes: https://pypi.org/simple, https://us-python.pkg.dev/colab-wheels/public/simple/\n",
            "Collecting emoji\n",
            "  Downloading emoji-2.0.0.tar.gz (197 kB)\n",
            "\u001b[K     |████████████████████████████████| 197 kB 23.5 MB/s \n",
            "\u001b[?25hBuilding wheels for collected packages: emoji\n",
            "  Building wheel for emoji (setup.py) ... \u001b[?25l\u001b[?25hdone\n",
            "  Created wheel for emoji: filename=emoji-2.0.0-py3-none-any.whl size=193022 sha256=273f5045b24fb9326fa0121e9897121977d251ccbec13cadc138040626a5fc62\n",
            "  Stored in directory: /root/.cache/pip/wheels/ec/29/4d/3cfe7452ac7d8d83b1930f8a6205c3c9649b24e80f9029fc38\n",
            "Successfully built emoji\n",
            "Installing collected packages: emoji\n",
            "Successfully installed emoji-2.0.0\n",
            "ERROR: unknown command \"installshap\" - maybe you meant \"install\"\n",
            "Looking in indexes: https://pypi.org/simple, https://us-python.pkg.dev/colab-wheels/public/simple/\n",
            "\u001b[31mERROR: Could not find a version that satisfies the requirement gc (from versions: none)\u001b[0m\n",
            "\u001b[31mERROR: No matching distribution found for gc\u001b[0m\n",
            "Looking in indexes: https://pypi.org/simple, https://us-python.pkg.dev/colab-wheels/public/simple/\n",
            "\u001b[31mERROR: Could not find a version that satisfies the requirement os (from versions: none)\u001b[0m\n",
            "\u001b[31mERROR: No matching distribution found for os\u001b[0m\n",
            "Looking in indexes: https://pypi.org/simple, https://us-python.pkg.dev/colab-wheels/public/simple/\n",
            "Collecting shap\n",
            "  Downloading shap-0.41.0-cp37-cp37m-manylinux_2_12_x86_64.manylinux2010_x86_64.whl (569 kB)\n",
            "\u001b[K     |████████████████████████████████| 569 kB 33.2 MB/s \n",
            "\u001b[?25hRequirement already satisfied: scipy in /usr/local/lib/python3.7/dist-packages (from shap) (1.7.3)\n",
            "Requirement already satisfied: pandas in /usr/local/lib/python3.7/dist-packages (from shap) (1.3.5)\n",
            "Requirement already satisfied: cloudpickle in /usr/local/lib/python3.7/dist-packages (from shap) (1.3.0)\n",
            "Requirement already satisfied: tqdm>4.25.0 in /usr/local/lib/python3.7/dist-packages (from shap) (4.64.0)\n",
            "Requirement already satisfied: scikit-learn in /usr/local/lib/python3.7/dist-packages (from shap) (1.0.2)\n",
            "Requirement already satisfied: numpy in /usr/local/lib/python3.7/dist-packages (from shap) (1.21.6)\n",
            "Collecting slicer==0.0.7\n",
            "  Downloading slicer-0.0.7-py3-none-any.whl (14 kB)\n",
            "Requirement already satisfied: packaging>20.9 in /usr/local/lib/python3.7/dist-packages (from shap) (21.3)\n",
            "Requirement already satisfied: numba in /usr/local/lib/python3.7/dist-packages (from shap) (0.56.0)\n",
            "Requirement already satisfied: pyparsing!=3.0.5,>=2.0.2 in /usr/local/lib/python3.7/dist-packages (from packaging>20.9->shap) (3.0.9)\n",
            "Requirement already satisfied: importlib-metadata in /usr/local/lib/python3.7/dist-packages (from numba->shap) (4.12.0)\n",
            "Requirement already satisfied: setuptools in /usr/local/lib/python3.7/dist-packages (from numba->shap) (57.4.0)\n",
            "Requirement already satisfied: llvmlite<0.40,>=0.39.0dev0 in /usr/local/lib/python3.7/dist-packages (from numba->shap) (0.39.0)\n",
            "Requirement already satisfied: typing-extensions>=3.6.4 in /usr/local/lib/python3.7/dist-packages (from importlib-metadata->numba->shap) (4.1.1)\n",
            "Requirement already satisfied: zipp>=0.5 in /usr/local/lib/python3.7/dist-packages (from importlib-metadata->numba->shap) (3.8.1)\n",
            "Requirement already satisfied: pytz>=2017.3 in /usr/local/lib/python3.7/dist-packages (from pandas->shap) (2022.1)\n",
            "Requirement already satisfied: python-dateutil>=2.7.3 in /usr/local/lib/python3.7/dist-packages (from pandas->shap) (2.8.2)\n",
            "Requirement already satisfied: six>=1.5 in /usr/local/lib/python3.7/dist-packages (from python-dateutil>=2.7.3->pandas->shap) (1.15.0)\n",
            "Requirement already satisfied: threadpoolctl>=2.0.0 in /usr/local/lib/python3.7/dist-packages (from scikit-learn->shap) (3.1.0)\n",
            "Requirement already satisfied: joblib>=0.11 in /usr/local/lib/python3.7/dist-packages (from scikit-learn->shap) (1.1.0)\n",
            "Installing collected packages: slicer, shap\n",
            "Successfully installed shap-0.41.0 slicer-0.0.7\n",
            "Looking in indexes: https://pypi.org/simple, https://us-python.pkg.dev/colab-wheels/public/simple/\n",
            "\u001b[31mERROR: Could not find a version that satisfies the requirement re (from versions: none)\u001b[0m\n",
            "\u001b[31mERROR: No matching distribution found for re\u001b[0m\n"
          ]
        },
        {
          "output_type": "stream",
          "name": "stderr",
          "text": [
            "[nltk_data] Downloading package averaged_perceptron_tagger to\n",
            "[nltk_data]     /root/nltk_data...\n",
            "[nltk_data]   Unzipping taggers/averaged_perceptron_tagger.zip.\n",
            "[nltk_data] Downloading package stopwords to /root/nltk_data...\n",
            "[nltk_data]   Unzipping corpora/stopwords.zip.\n",
            "[nltk_data] Downloading package wordnet to /root/nltk_data...\n",
            "[nltk_data] Downloading collection 'popular'\n",
            "[nltk_data]    | \n",
            "[nltk_data]    | Downloading package cmudict to /root/nltk_data...\n",
            "[nltk_data]    |   Unzipping corpora/cmudict.zip.\n",
            "[nltk_data]    | Downloading package gazetteers to /root/nltk_data...\n",
            "[nltk_data]    |   Unzipping corpora/gazetteers.zip.\n",
            "[nltk_data]    | Downloading package genesis to /root/nltk_data...\n",
            "[nltk_data]    |   Unzipping corpora/genesis.zip.\n",
            "[nltk_data]    | Downloading package gutenberg to /root/nltk_data...\n",
            "[nltk_data]    |   Unzipping corpora/gutenberg.zip.\n",
            "[nltk_data]    | Downloading package inaugural to /root/nltk_data...\n",
            "[nltk_data]    |   Unzipping corpora/inaugural.zip.\n",
            "[nltk_data]    | Downloading package movie_reviews to\n",
            "[nltk_data]    |     /root/nltk_data...\n",
            "[nltk_data]    |   Unzipping corpora/movie_reviews.zip.\n",
            "[nltk_data]    | Downloading package names to /root/nltk_data...\n",
            "[nltk_data]    |   Unzipping corpora/names.zip.\n",
            "[nltk_data]    | Downloading package shakespeare to /root/nltk_data...\n",
            "[nltk_data]    |   Unzipping corpora/shakespeare.zip.\n",
            "[nltk_data]    | Downloading package stopwords to /root/nltk_data...\n",
            "[nltk_data]    |   Package stopwords is already up-to-date!\n",
            "[nltk_data]    | Downloading package treebank to /root/nltk_data...\n",
            "[nltk_data]    |   Unzipping corpora/treebank.zip.\n",
            "[nltk_data]    | Downloading package twitter_samples to\n",
            "[nltk_data]    |     /root/nltk_data...\n",
            "[nltk_data]    |   Unzipping corpora/twitter_samples.zip.\n",
            "[nltk_data]    | Downloading package omw to /root/nltk_data...\n",
            "[nltk_data]    | Downloading package omw-1.4 to /root/nltk_data...\n",
            "[nltk_data]    | Downloading package wordnet to /root/nltk_data...\n",
            "[nltk_data]    |   Package wordnet is already up-to-date!\n",
            "[nltk_data]    | Downloading package wordnet2021 to /root/nltk_data...\n",
            "[nltk_data]    | Downloading package wordnet31 to /root/nltk_data...\n",
            "[nltk_data]    | Downloading package wordnet_ic to /root/nltk_data...\n",
            "[nltk_data]    |   Unzipping corpora/wordnet_ic.zip.\n",
            "[nltk_data]    | Downloading package words to /root/nltk_data...\n",
            "[nltk_data]    |   Unzipping corpora/words.zip.\n",
            "[nltk_data]    | Downloading package maxent_ne_chunker to\n",
            "[nltk_data]    |     /root/nltk_data...\n",
            "[nltk_data]    |   Unzipping chunkers/maxent_ne_chunker.zip.\n",
            "[nltk_data]    | Downloading package punkt to /root/nltk_data...\n",
            "[nltk_data]    |   Unzipping tokenizers/punkt.zip.\n",
            "[nltk_data]    | Downloading package snowball_data to\n",
            "[nltk_data]    |     /root/nltk_data...\n",
            "[nltk_data]    | Downloading package averaged_perceptron_tagger to\n",
            "[nltk_data]    |     /root/nltk_data...\n",
            "[nltk_data]    |   Package averaged_perceptron_tagger is already up-\n",
            "[nltk_data]    |       to-date!\n",
            "[nltk_data]    | \n",
            "[nltk_data]  Done downloading collection popular\n"
          ]
        }
      ],
      "source": [
        "!pip install pandas\n",
        "!pip install matplotlib\n",
        "!pip install string\n",
        "!pip install nltk\n",
        "!pip install numpy\n",
        "!pip install sklearn\n",
        "!pip install xgboost\n",
        "!pip install emoji\n",
        "!pip installshap\n",
        "!pip install gc\n",
        "!pip install os\n",
        "!pip install shap\n",
        "!pip install re\n",
        "\n",
        "# importing libraries\n",
        "import pandas as pd\n",
        "import matplotlib.pyplot as plt\n",
        "import string\n",
        "import re\n",
        "import nltk\n",
        "import numpy as np\n",
        "from nltk.corpus import stopwords\n",
        "from nltk.tokenize import RegexpTokenizer\n",
        "from sklearn.model_selection import train_test_split, GridSearchCV\n",
        "\n",
        "from sklearn.feature_extraction.text import TfidfVectorizer\n",
        "from sklearn.linear_model import LogisticRegression\n",
        "import sklearn.metrics as metrics\n",
        "\n",
        "from sklearn.metrics import f1_score, classification_report, accuracy_score, confusion_matrix, ConfusionMatrixDisplay\n",
        "from sklearn.naive_bayes import MultinomialNB, BernoulliNB\n",
        "from sklearn.svm import LinearSVC, SVC\n",
        "from xgboost import XGBClassifier\n",
        "from sklearn.ensemble import RandomForestClassifier\n",
        "\n",
        "import emoji \n",
        "import shap as shap\n",
        "\n",
        "import gc\n",
        "import os\n"
      ]
    },
    {
      "cell_type": "code",
      "source": [
        "import nltk\n",
        "nltk.download('averaged_perceptron_tagger')\n",
        "nltk.download('stopwords')\n",
        "\n",
        "from google.colab import drive\n",
        "\n",
        "import nltk\n",
        "nltk.download('wordnet')\n",
        "from nltk.corpus import wordnet\n",
        "import nltk; nltk.download('popular')\n",
        "from nltk.corpus import wordnet as wn\n"
      ],
      "metadata": {
        "id": "19q0H9VcUNZO"
      },
      "execution_count": null,
      "outputs": []
    },
    {
      "cell_type": "code",
      "execution_count": null,
      "metadata": {
        "id": "GJGUdy9grV4C"
      },
      "outputs": [],
      "source": [
        "drive.mount('/content/gdrive')\n",
        "data_path = 'gdrive/MyDrive/THESIS/datasets'\n",
        "\n",
        "df_balanced = pd.read_csv(data_path + '/prepped_data/df_balanced.csv')\n",
        "comparison_file = pd.read_csv(data_path + '/comparison_file.csv')"
      ]
    },
    {
      "cell_type": "code",
      "source": [
        "df_balanced.head()"
      ],
      "metadata": {
        "id": "3PfS5lVc-dRx"
      },
      "execution_count": null,
      "outputs": []
    },
    {
      "cell_type": "code",
      "source": [
        "comparison_file.head()"
      ],
      "metadata": {
        "id": "ftPEHHKDN6GQ"
      },
      "execution_count": null,
      "outputs": []
    },
    {
      "cell_type": "code",
      "execution_count": null,
      "metadata": {
        "id": "T89cTwUbrV8a"
      },
      "outputs": [],
      "source": [
        "def preprocessor(data):\n",
        "  pattern = r'(@\\w+)|(#\\w+)' # (http://[^\"\\s]+)|\n",
        "  data['original_sentence'] = data['sentence']\n",
        "  data['sentence'].str.replace(pattern, \"\")\n",
        "  data['sentence'].str.replace('RT', \"\")\n",
        "  data['sentence'].str.replace('AITA', \"\")\n",
        "\n",
        "  data['sentence'].str.replace('bc', \"because\")\n",
        "\n",
        "  # remove usernames\n",
        "  data['sentence'] = [re.sub(\"([@#][A-Za-z0-9_]+)|(\\w+:\\/\\/\\S+)\", \"\", s) for s in data['sentence']]\n",
        "\n",
        "  # remove URLs\n",
        "  data['sentence'] = [re.sub(\"(?i)\\b((?:https?://|www\\d{0,3}[.]|[a-z0-9.\\-]+[.][a-z]{2,4}/)(?:[^\\s()<>]+|\\(([^\\s()<>]+|(\\([^\\s()<>]+\\)))*\\))+(?:\\(([^\\s()<>]+|(\\([^\\s()<>]+\\)))*\\)|[^\\s`!()\\[\\]{};:'\\\".,<>?«»“”‘’]))\", \"\", s) for s in data['sentence']]\n",
        "\n",
        "  # convert (non) emoji smiley faces & emoticons to words\n",
        "  eyes = '[8:=;]'\n",
        "  nose = \"['`\\-~]\"\n",
        "\n",
        "  data['sentence'] = [re.sub(f'{eyes}{nose}*[)]]+|[[(c]+{nose}*{eyes}', 'smile', s) for s in data['sentence']]\n",
        "  data['sentence'] = [re.sub(f'{eyes}{nose}*[pP]+', 'lolface', s) for s in data['sentence']]\n",
        "  data['sentence'] = [re.sub(f'{eyes}{nose}*[(c\\/]+|[)\\/]+{nose}*{eyes}', 'sadface', s) for s in data['sentence']]\n",
        "  data['sentence'] = [re.sub(f'{eyes}{nose}*[\\|l]+', 'neutralface', s) for s in data['sentence']]\n",
        "  data['sentence'] = [re.sub(f'{eyes}{nose}*[oO$s@&]+', 'otherface', s) for s in data['sentence']]\n",
        "  data['sentence'] = [re.sub(r'(<3)', 'heart', s) for s in data['sentence']]\n",
        "  data['sentence'] = [re.sub(r'(</3)', 'brokenheart', s) for s in data['sentence']]\n",
        "\n",
        "  data['sentence'] = [emoji.demojize(s) for s in data['sentence']]\n",
        "\n",
        "  # remove digits\n",
        "  # data['sentence'] = data['sentence'].apply(lambda x: ' '.join([word for word in x.split() if not word.isdigit()]))\n",
        "  data['sentence'] = [re.sub(r'[0-9\\.]+', '', s) for s in data['sentence']]\n",
        "\n",
        "  df_balanced['sentence'] = df_balanced['sentence'].str.replace('\\d+', '')\n",
        "\n",
        "\n",
        "  # lowercase\n",
        "  data['sentence'] = [sentence.lower() for sentence in data['sentence']]\n",
        "\n",
        "  data['sentence'].str.replace('aita', \"\")\n",
        "\n",
        "\n",
        "  # remove punctuation\n",
        "  data['sentence'] = [re.sub(r'[^\\w\\d\\s\\']+', '', s) for s in data['sentence']]\n",
        "\n",
        "  # remove stopwords\n",
        "  stops = set(stopwords.words('english'))\n",
        "  data['sentence'] = data['sentence'].apply(lambda x: ' '.join([word for word in x.split() if word not in (stops)]))\n",
        "\n",
        "  # remove first unnamed:0 column\n",
        "  data = data.drop('Unnamed: 0', 1)\n",
        "\n",
        "  return data\n",
        "\n",
        "preprocessor(df_balanced)\n"
      ]
    },
    {
      "cell_type": "code",
      "execution_count": null,
      "metadata": {
        "id": "oTM-cgfvvHgE"
      },
      "outputs": [],
      "source": [
        "all_synonyms = []\n",
        "\n",
        "for sentence in df_balanced['sentence']:\n",
        "    synonyms = []\n",
        "    for word in sentence.split():\n",
        "        for syn in wordnet.synsets(word):\n",
        "            for l in syn.lemmas():\n",
        "                synonyms.append(l.name())\n",
        "                \n",
        "    all_synonyms.append(synonyms)\n",
        "\n",
        "print(all_synonyms)\n",
        "print(len(all_synonyms))\n"
      ]
    },
    {
      "cell_type": "code",
      "execution_count": null,
      "metadata": {
        "id": "uadLnMULQmUT"
      },
      "outputs": [],
      "source": [
        "df_balanced['synonyms'] = all_synonyms"
      ]
    },
    {
      "cell_type": "code",
      "execution_count": null,
      "metadata": {
        "id": "q3YFA1T4vWrL"
      },
      "outputs": [],
      "source": [
        "df_balanced.head()"
      ]
    },
    {
      "cell_type": "code",
      "execution_count": null,
      "metadata": {
        "id": "ihvIpuGZyqIk"
      },
      "outputs": [],
      "source": [
        "df_balanced.to_csv(data_path + '/df_balanced_WN.csv')"
      ]
    },
    {
      "cell_type": "code",
      "source": [
        "# df_balanced.sample(1000).to_csv(data_path + '/df_balanced_WN_SAMPLE.csv')"
      ],
      "metadata": {
        "id": "8mgxAxtpWfH6"
      },
      "execution_count": null,
      "outputs": []
    },
    {
      "cell_type": "code",
      "execution_count": null,
      "metadata": {
        "id": "l3OcnMsny_ia"
      },
      "outputs": [],
      "source": [
        "\n",
        "from sklearn.metrics import f1_score, classification_report, accuracy_score, confusion_matrix, ConfusionMatrixDisplay\n",
        "from sklearn.model_selection import train_test_split, cross_val_score, GridSearchCV, RandomizedSearchCV\n",
        "from sklearn.feature_extraction.text import TfidfVectorizer, CountVectorizer\n",
        "from sklearn.pipeline import make_pipeline, Pipeline, FeatureUnion\n",
        "from sklearn.linear_model import SGDClassifier, LogisticRegression\n",
        "from sklearn.base import BaseEstimator, TransformerMixin\n",
        "from sklearn.neighbors import KNeighborsClassifier\n",
        "from sklearn.naive_bayes import MultinomialNB, BernoulliNB\n",
        "from sklearn.decomposition import TruncatedSVD\n",
        "from sklearn.tree import DecisionTreeClassifier\n",
        "from sklearn.svm import LinearSVC, SVC\n",
        "from sklearn.ensemble import RandomForestClassifier, VotingClassifier, StackingClassifier \n",
        "from sklearn.compose import make_column_transformer, make_column_selector, ColumnTransformer"
      ]
    },
    {
      "cell_type": "code",
      "execution_count": null,
      "metadata": {
        "id": "NyPny67GwQO-"
      },
      "outputs": [],
      "source": [
        "# running this and next block of code in jupyter notebook (which hopefully goes faster, with the new chip)\n",
        "\n",
        "def model(method, data = df_balanced, comp = comparison_file):\n",
        "    X = data[['sentence', 'synonyms', 'original_sentence']]\n",
        "    y = data['label']\n",
        "    X_train, X_test, y_train, y_test = train_test_split(X, y, test_size = 0.30, stratify = y, random_state=101)\n",
        "    \n",
        "    count = CountVectorizer(max_features = 10000)\n",
        "    c_vec = ColumnTransformer([\n",
        "      ('c_vec_sentence', count, 'sentence'),\n",
        "      ('c_vec_synonyms', count, 'synonyms')\n",
        "      ])\n",
        "    \n",
        "    tfidf = TfidfVectorizer(max_features = 10000)\n",
        "    t_vec = ColumnTransformer([\n",
        "      ('t_vec_sentence', count, 'sentence'),\n",
        "      ('t_vec_synonyms', count, 'synonyms')\n",
        "      ])\n",
        "    \n",
        "    \n",
        "    union = FeatureUnion([('c_vec', c_vec), ('t_vec', t_vec)])\n",
        "\n",
        "\n",
        "    params = [{\n",
        "    'union__c_vec__c_vec_sentence__analyzer': ['word'],\n",
        "    'union__c_vec__c_vec_sentence__ngram_range': [(1, 1)],\n",
        "    'union__c_vec__c_vec_synonyms__analyzer': ['word'],\n",
        "    'union__c_vec__c_vec_synonyms__ngram_range': [(1, 1)],\n",
        "    'union__t_vec__t_vec_sentence__analyzer': ['word'],\n",
        "    'union__t_vec__t_vec_sentence__ngram_range': [(1, 1)],\n",
        "    'union__t_vec__t_vec_synonyms__analyzer': ['word'],\n",
        "    'union__t_vec__t_vec_synonyms__ngram_range': [(1, 1)],\n",
        "    }]\n",
        "    \n",
        "    # left out : ('union', union), ('to_cuda', torch.from_numpy()),\n",
        "    \n",
        "    pipe = Pipeline(steps = [('union', union), ('svc', SVC(gamma = 1, kernel = 'rbf'))])\n",
        "    \n",
        "    gs = GridSearchCV(pipe, params, cv = 5, scoring = 'accuracy', n_jobs = -1, refit = True, verbose = 5, error_score='raise')\n",
        "    gs.fit(X_train[['sentence', 'synonyms']], y_train)\n",
        "    %time gs.fit(X_train[['sentence', 'synonyms']], y_train)\n",
        "    \n",
        "    estimator = gs.best_estimator_\n",
        "    y_pred = estimator.predict(X_test[['sentence', 'synonyms']])\n",
        "\n",
        "    print(\"Best Parameters: \\n{}\\n\".format(gs.best_params_))\n",
        "    \n",
        "    metrics.f1_score(y_test, y_pred, average='weighted')\n",
        "    print(\"Accuracy: {}%\".format(accuracy_score(y_test, y_pred) * 100))\n",
        "    \n",
        "    print(classification_report(y_test, y_pred))\n",
        "    cm = confusion_matrix(y_test, y_pred)\n",
        "    print('Confusion Matrix : \\n' + str(cm))\n",
        "    ConfusionMatrixDisplay.from_predictions(y_test, y_pred)\n",
        "    plot = plt.show()\n",
        "    \n",
        "    comp_pred = estimator.predict(comp)\n",
        "\n",
        "    return estimator, y_pred, y_test, X_test['sentence'], X_test['original_sentence'], comp, comp_pred\n",
        "\n",
        "def generate_output_file(method, filename: str):\n",
        "    test = pd.read_csv(filename)\n",
        "    test.sentence = test.sentence.astype(str)\n",
        "    id = test.index.to_list()\n",
        "    estimator, label, gold, lemmas, sentence, comparison, comparison_pred = model(method, test)\n",
        "    gc.collect()\n",
        "    name, ext = os.path.splitext(os.path.basename(filename))\n",
        "    \n",
        "    out_file = 'gdrive/MyDrive/THESIS/results/'  + 'Results_' + 'SVC_WN' +'_pred_COPY_5000' + ext\n",
        "    output = pd.DataFrame(list(zip(id, list(label), list(gold), list(lemmas), list(sentence))), columns = ['id', 'label', 'gold', 'input', 'sentence'])\n",
        "    output['label'] = np.where(output['label'] == 0, 'not okay', 'okay')\n",
        "    output['gold'] = np.where(output['gold'] == 0, 'not okay', 'okay')\n",
        "    output.to_csv(out_file, sep=',', encoding='utf-8', index = False)\n",
        "\n",
        "    out_file_comp = 'results/'  + 'Results_' + 'SVC_WN' +'_comp' + ext\n",
        "    output_comp = pd.DataFrame(list(zip(list(comparison), list(comparison_pred))), columns = ['sentence', 'label'])\n",
        "    output_comp['label'] = np.where(output['label'] == 0, 'not okay', 'okay')\n",
        "    output_comp.to_csv(out_file_comp, sep=',', encoding='utf-8', index = False)\n",
        "\n",
        "    return output.head(), estimator\n"
      ]
    },
    {
      "cell_type": "code",
      "execution_count": null,
      "metadata": {
        "id": "bhT1V6tSJunl",
        "tags": []
      },
      "outputs": [],
      "source": [
        "method = SVC(gamma = 1, kernel = 'rbf')\n",
        "output, estimator = generate_output_file(method, data_path+'/df_balanced_WN.csv', data_path + '/comparison_file.csv' )"
      ]
    },
    {
      "cell_type": "code",
      "execution_count": null,
      "metadata": {
        "id": "cTTAftFO3fpd"
      },
      "outputs": [],
      "source": [
        "# model with OOVs replaced by a synonym"
      ]
    },
    {
      "cell_type": "code",
      "execution_count": null,
      "metadata": {
        "id": "mLyM35j43fpd",
        "outputId": "62b07e23-b037-4620-b545-e7227709245e"
      },
      "outputs": [
        {
          "data": {
            "text/html": [
              "<div>\n",
              "<style scoped>\n",
              "    .dataframe tbody tr th:only-of-type {\n",
              "        vertical-align: middle;\n",
              "    }\n",
              "\n",
              "    .dataframe tbody tr th {\n",
              "        vertical-align: top;\n",
              "    }\n",
              "\n",
              "    .dataframe thead th {\n",
              "        text-align: right;\n",
              "    }\n",
              "</style>\n",
              "<table border=\"1\" class=\"dataframe\">\n",
              "  <thead>\n",
              "    <tr style=\"text-align: right;\">\n",
              "      <th></th>\n",
              "      <th>Unnamed: 0.1</th>\n",
              "      <th>Unnamed: 0</th>\n",
              "      <th>sentence</th>\n",
              "      <th>label</th>\n",
              "    </tr>\n",
              "  </thead>\n",
              "  <tbody>\n",
              "    <tr>\n",
              "      <th>0</th>\n",
              "      <td>0</td>\n",
              "      <td>136</td>\n",
              "      <td>aita someone interrupts speaking continue spea...</td>\n",
              "      <td>0</td>\n",
              "    </tr>\n",
              "    <tr>\n",
              "      <th>1</th>\n",
              "      <td>1</td>\n",
              "      <td>464</td>\n",
              "      <td>greeted slap face</td>\n",
              "      <td>0</td>\n",
              "    </tr>\n",
              "    <tr>\n",
              "      <th>2</th>\n",
              "      <td>2</td>\n",
              "      <td>555</td>\n",
              "      <td>aita demanding tinder date pay half bill amoun...</td>\n",
              "      <td>0</td>\n",
              "    </tr>\n",
              "    <tr>\n",
              "      <th>3</th>\n",
              "      <td>3</td>\n",
              "      <td>731</td>\n",
              "      <td>son anxious swimming ocean rent movie jaws</td>\n",
              "      <td>0</td>\n",
              "    </tr>\n",
              "    <tr>\n",
              "      <th>4</th>\n",
              "      <td>4</td>\n",
              "      <td>865</td>\n",
              "      <td>fed tigers prepared human meat butcher</td>\n",
              "      <td>0</td>\n",
              "    </tr>\n",
              "    <tr>\n",
              "      <th>...</th>\n",
              "      <td>...</td>\n",
              "      <td>...</td>\n",
              "      <td>...</td>\n",
              "      <td>...</td>\n",
              "    </tr>\n",
              "    <tr>\n",
              "      <th>97775</th>\n",
              "      <td>97775</td>\n",
              "      <td>96283</td>\n",
              "      <td>roughly young men incel mean they're virgins p...</td>\n",
              "      <td>1</td>\n",
              "    </tr>\n",
              "    <tr>\n",
              "      <th>97776</th>\n",
              "      <td>97776</td>\n",
              "      <td>28699</td>\n",
              "      <td>decided build post based worked</td>\n",
              "      <td>1</td>\n",
              "    </tr>\n",
              "    <tr>\n",
              "      <th>97777</th>\n",
              "      <td>97777</td>\n",
              "      <td>91525</td>\n",
              "      <td>im sure thread died interest manitoba hope rea...</td>\n",
              "      <td>1</td>\n",
              "    </tr>\n",
              "    <tr>\n",
              "      <th>97778</th>\n",
              "      <td>97778</td>\n",
              "      <td>87000</td>\n",
              "      <td>anyone realize said post daddy shooting hand d...</td>\n",
              "      <td>1</td>\n",
              "    </tr>\n",
              "    <tr>\n",
              "      <th>97779</th>\n",
              "      <td>97779</td>\n",
              "      <td>99287</td>\n",
              "      <td>dad looks disdain must disappointed seed turned</td>\n",
              "      <td>1</td>\n",
              "    </tr>\n",
              "  </tbody>\n",
              "</table>\n",
              "<p>97780 rows × 4 columns</p>\n",
              "</div>"
            ],
            "text/plain": [
              "       Unnamed: 0.1  Unnamed: 0  \\\n",
              "0                 0         136   \n",
              "1                 1         464   \n",
              "2                 2         555   \n",
              "3                 3         731   \n",
              "4                 4         865   \n",
              "...             ...         ...   \n",
              "97775         97775       96283   \n",
              "97776         97776       28699   \n",
              "97777         97777       91525   \n",
              "97778         97778       87000   \n",
              "97779         97779       99287   \n",
              "\n",
              "                                                sentence  label  \n",
              "0      aita someone interrupts speaking continue spea...      0  \n",
              "1                                      greeted slap face      0  \n",
              "2      aita demanding tinder date pay half bill amoun...      0  \n",
              "3             son anxious swimming ocean rent movie jaws      0  \n",
              "4                 fed tigers prepared human meat butcher      0  \n",
              "...                                                  ...    ...  \n",
              "97775  roughly young men incel mean they're virgins p...      1  \n",
              "97776                    decided build post based worked      1  \n",
              "97777  im sure thread died interest manitoba hope rea...      1  \n",
              "97778  anyone realize said post daddy shooting hand d...      1  \n",
              "97779    dad looks disdain must disappointed seed turned      1  \n",
              "\n",
              "[97780 rows x 4 columns]"
            ]
          },
          "execution_count": 5,
          "metadata": {},
          "output_type": "execute_result"
        }
      ],
      "source": [
        "df_oov = pd.read_csv('datasets/prepped_data/df_balanced.csv')\n",
        "df_oov"
      ]
    },
    {
      "cell_type": "code",
      "execution_count": null,
      "metadata": {
        "id": "H-XUk74h3fpe"
      },
      "outputs": [],
      "source": [
        "def model(method, data = df_oov):\n",
        "    X = data['sentence']\n",
        "    y = data['label']\n",
        "    X_train, X_test, y_train, y_test = train_test_split(X, y, test_size = 0.30, stratify = y, random_state=101)\n",
        "\n",
        "    vectorizer = CountVectorizer(max_features = 10000) \n",
        "    document_term_matrix = vectorizer.fit_transform([s for s in X_train])\n",
        "    train_vocab = vectorizer.vocabulary_\n",
        "\n",
        "    # replace oov words in test set with a synonym (found via wordnet) that is present in the training vocab\n",
        "    for s in X_test:\n",
        "        for w in s.split():\n",
        "            if w not in train_vocab:\n",
        "                synonyms = []\n",
        "                for syn in wordnet.synsets(word):\n",
        "                    for l in syn.lemmas():\n",
        "                        synonyms.append(l.name())\n",
        "                for syn in synonyms:\n",
        "                    if syn in train_vocab:\n",
        "                        s.replace(w, syn)\n",
        "                        break\n",
        "\n",
        "\n",
        "    \n",
        "    pipe = Pipeline(steps = [('vectorizer', vectorizer), ('svc', SVC(gamma = 1, kernel = 'rbf'))])\n",
        "    pipe.fit(X_train, y_train)\n",
        "    %time pipe.fit(X_train, y_train)\n",
        "    \n",
        "    y_pred = pipe.predict(X_test)\n",
        "    \n",
        "    metrics.f1_score(y_test, y_pred, average='weighted')\n",
        "    print(\"Accuracy: {}%\".format(accuracy_score(y_test, y_pred) * 100))\n",
        "    \n",
        "    print(classification_report(y_test, y_pred))\n",
        "    cm = confusion_matrix(y_test, y_pred)\n",
        "    print('Confusion Matrix : \\n' + str(cm))\n",
        "    ConfusionMatrixDisplay.from_predictions(y_test, y_pred)\n",
        "    plot = plt.show()\n",
        "    \n",
        "    return estimator, y_pred, y_test\n",
        "\n",
        "def generate_output_file(method, filename: str):\n",
        "    test = pd.read_csv(filename)\n",
        "    test.sentence = test.sentence.astype(str)\n",
        "    id = test.index.to_list()\n",
        "    estimator, label, gold = model(method, test)\n",
        "    gc.collect()\n",
        "    name, ext = os.path.splitext(os.path.basename(filename))\n",
        "    out_file = 'results/'  + 'Results_' + 'SVC_OOV' +'_pred' + ext\n",
        "    output = pd.DataFrame(list(zip(id, list(label), list(gold))), columns = ['id', 'label', 'gold'])\n",
        "    output['label'] = np.where(output['label'] == 0, 'not okay', 'okay')\n",
        "    output['gold'] = np.where(output['gold'] == 0, 'not okay', 'okay')\n",
        "    output.to_csv(out_file, sep=',', encoding='utf-8', index = False)\n",
        "    return output.head(), estimator"
      ]
    },
    {
      "cell_type": "code",
      "execution_count": null,
      "metadata": {
        "id": "I27wpYI13fpe",
        "outputId": "94ecaafd-5437-40e9-dad3-182396d9a308"
      },
      "outputs": [
        {
          "name": "stdout",
          "output_type": "stream",
          "text": [
            "CPU times: user 19min 3s, sys: 10 µs, total: 19min 3s\n",
            "Wall time: 19min 3s\n",
            "Accuracy: 82.43335378741392%\n",
            "              precision    recall  f1-score   support\n",
            "\n",
            "           0       0.77      0.93      0.84     14667\n",
            "           1       0.92      0.71      0.80     14667\n",
            "\n",
            "    accuracy                           0.82     29334\n",
            "   macro avg       0.84      0.82      0.82     29334\n",
            "weighted avg       0.84      0.82      0.82     29334\n",
            "\n",
            "Confusion Matrix : \n",
            "[[13710   957]\n",
            " [ 4196 10471]]\n"
          ]
        },
        {
          "data": {
            "image/png": "[encoded data removed]",
            "text/plain": [
              "<Figure size 432x288 with 2 Axes>"
            ]
          },
          "metadata": {
            "needs_background": "light"
          },
          "output_type": "display_data"
        }
      ],
      "source": [
        "method = SVC(gamma = 1, kernel = 'rbf')\n",
        "output, estimator = generate_output_file(method, 'datasets/prepped_data/df_balanced.csv')"
      ]
    },
    {
      "cell_type": "code",
      "execution_count": null,
      "metadata": {
        "id": "ASYf2IUf3fpf"
      },
      "outputs": [],
      "source": [
        "def model(method, data = df_oov):\n",
        "    X = data['sentence']\n",
        "    y = data['label']\n",
        "    X_train, X_test, y_train, y_test = train_test_split(X, y, test_size = 0.30, stratify = y, random_state=101)\n",
        "\n",
        "    vectorizer = CountVectorizer(max_features = 50000) \n",
        "    document_term_matrix = vectorizer.fit_transform([s for s in X_train])\n",
        "    train_vocab = vectorizer.vocabulary_\n",
        "\n",
        "    # replace oov words in test set with a synonym (found via wordnet) that is present in the training vocab\n",
        "    for s in X_test:\n",
        "        for w in s.split():\n",
        "            if w not in train_vocab:\n",
        "                synonyms = []\n",
        "                for syn in wordnet.synsets(w):\n",
        "                    for l in syn.lemmas():\n",
        "                        synonyms.append(l.name())\n",
        "                for syn in synonyms:\n",
        "                    if syn in train_vocab:\n",
        "                        s.replace(w, syn)\n",
        "                        break\n",
        "\n",
        "\n",
        "    \n",
        "    pipe = Pipeline(steps = [('vectorizer', vectorizer), ('svc', SVC(gamma = 1, kernel = 'rbf'))])\n",
        "    pipe.fit(X_train, y_train)\n",
        "    %time pipe.fit(X_train, y_train)\n",
        "    \n",
        "    y_pred = pipe.predict(X_test)\n",
        "    \n",
        "    metrics.f1_score(y_test, y_pred, average='weighted')\n",
        "    print(\"Accuracy: {}%\".format(accuracy_score(y_test, y_pred) * 100))\n",
        "    \n",
        "    print(classification_report(y_test, y_pred))\n",
        "    cm = confusion_matrix(y_test, y_pred)\n",
        "    print('Confusion Matrix : \\n' + str(cm))\n",
        "    ConfusionMatrixDisplay.from_predictions(y_test, y_pred)\n",
        "    plot = plt.show()\n",
        "    \n",
        "    return estimator, y_pred, y_test\n",
        "\n",
        "def generate_output_file(method, filename: str):\n",
        "    test = pd.read_csv(filename)\n",
        "    test.sentence = test.sentence.astype(str)\n",
        "    id = test.index.to_list()\n",
        "    estimator, label, gold = model(method, test)\n",
        "    gc.collect()\n",
        "    name, ext = os.path.splitext(os.path.basename(filename))\n",
        "    out_file = 'results/'  + 'Results_' + 'SVC_OOV' +'_pred_50000' + ext\n",
        "    output = pd.DataFrame(list(zip(id, list(label), list(gold))), columns = ['id', 'label', 'gold'])\n",
        "    output['label'] = np.where(output['label'] == 0, 'not okay', 'okay')\n",
        "    output['gold'] = np.where(output['gold'] == 0, 'not okay', 'okay')\n",
        "    output.to_csv(out_file, sep=',', encoding='utf-8', index = False)\n",
        "    return output.head(), estimator"
      ]
    },
    {
      "cell_type": "code",
      "execution_count": null,
      "metadata": {
        "id": "kZWUt1ev3fpf",
        "outputId": "a25034b7-43ab-4e24-f0ca-a21a7db3962c"
      },
      "outputs": [
        {
          "name": "stdout",
          "output_type": "stream",
          "text": [
            "CPU times: user 20min 31s, sys: 136 ms, total: 20min 31s\n",
            "Wall time: 20min 32s\n",
            "Accuracy: 82.70607486193495%\n",
            "              precision    recall  f1-score   support\n",
            "\n",
            "           0       0.77      0.94      0.84     14667\n",
            "           1       0.92      0.71      0.81     14667\n",
            "\n",
            "    accuracy                           0.83     29334\n",
            "   macro avg       0.84      0.83      0.82     29334\n",
            "weighted avg       0.84      0.83      0.82     29334\n",
            "\n",
            "Confusion Matrix : \n",
            "[[13777   890]\n",
            " [ 4183 10484]]\n"
          ]
        },
        {
          "data": {
            "image/png": "[encoded data removed]",
            "text/plain": [
              "<Figure size 432x288 with 2 Axes>"
            ]
          },
          "metadata": {
            "needs_background": "light"
          },
          "output_type": "display_data"
        },
        {
          "ename": "NameError",
          "evalue": "name 'estimator' is not defined",
          "output_type": "error",
          "traceback": [
            "\u001b[0;31m---------------------------------------------------------------------------\u001b[0m",
            "\u001b[0;31mNameError\u001b[0m                                 Traceback (most recent call last)",
            "Input \u001b[0;32mIn [13]\u001b[0m, in \u001b[0;36m<cell line: 2>\u001b[0;34m()\u001b[0m\n\u001b[1;32m      1\u001b[0m method \u001b[38;5;241m=\u001b[39m SVC(gamma \u001b[38;5;241m=\u001b[39m \u001b[38;5;241m1\u001b[39m, kernel \u001b[38;5;241m=\u001b[39m \u001b[38;5;124m'\u001b[39m\u001b[38;5;124mrbf\u001b[39m\u001b[38;5;124m'\u001b[39m)\n\u001b[0;32m----> 2\u001b[0m output, estimator \u001b[38;5;241m=\u001b[39m \u001b[43mgenerate_output_file\u001b[49m\u001b[43m(\u001b[49m\u001b[43mmethod\u001b[49m\u001b[43m,\u001b[49m\u001b[43m \u001b[49m\u001b[38;5;124;43m'\u001b[39;49m\u001b[38;5;124;43mdatasets/prepped_data/df_balanced_prep.csv\u001b[39;49m\u001b[38;5;124;43m'\u001b[39;49m\u001b[43m)\u001b[49m\n",
            "Input \u001b[0;32mIn [12]\u001b[0m, in \u001b[0;36mgenerate_output_file\u001b[0;34m(method, filename)\u001b[0m\n\u001b[1;32m     44\u001b[0m test\u001b[38;5;241m.\u001b[39msentence \u001b[38;5;241m=\u001b[39m test\u001b[38;5;241m.\u001b[39msentence\u001b[38;5;241m.\u001b[39mastype(\u001b[38;5;28mstr\u001b[39m)\n\u001b[1;32m     45\u001b[0m \u001b[38;5;28mid\u001b[39m \u001b[38;5;241m=\u001b[39m test\u001b[38;5;241m.\u001b[39mindex\u001b[38;5;241m.\u001b[39mto_list()\n\u001b[0;32m---> 46\u001b[0m estimator, label, gold \u001b[38;5;241m=\u001b[39m \u001b[43mmodel\u001b[49m\u001b[43m(\u001b[49m\u001b[43mmethod\u001b[49m\u001b[43m,\u001b[49m\u001b[43m \u001b[49m\u001b[43mtest\u001b[49m\u001b[43m)\u001b[49m\n\u001b[1;32m     47\u001b[0m gc\u001b[38;5;241m.\u001b[39mcollect()\n\u001b[1;32m     48\u001b[0m name, ext \u001b[38;5;241m=\u001b[39m os\u001b[38;5;241m.\u001b[39mpath\u001b[38;5;241m.\u001b[39msplitext(os\u001b[38;5;241m.\u001b[39mpath\u001b[38;5;241m.\u001b[39mbasename(filename))\n",
            "Input \u001b[0;32mIn [12]\u001b[0m, in \u001b[0;36mmodel\u001b[0;34m(method, data)\u001b[0m\n\u001b[1;32m     37\u001b[0m ConfusionMatrixDisplay\u001b[38;5;241m.\u001b[39mfrom_predictions(y_test, y_pred)\n\u001b[1;32m     38\u001b[0m plot \u001b[38;5;241m=\u001b[39m plt\u001b[38;5;241m.\u001b[39mshow()\n\u001b[0;32m---> 40\u001b[0m \u001b[38;5;28;01mreturn\u001b[39;00m \u001b[43mestimator\u001b[49m, y_pred, y_test\n",
            "\u001b[0;31mNameError\u001b[0m: name 'estimator' is not defined"
          ]
        }
      ],
      "source": [
        "method = SVC(gamma = 1, kernel = 'rbf')\n",
        "output, estimator = generate_output_file(method, 'datasets/prepped_data/df_balanced.csv')"
      ]
    },
    {
      "cell_type": "code",
      "execution_count": null,
      "metadata": {
        "id": "M4ZQbdhX3fpf"
      },
      "outputs": [],
      "source": [
        "def model(method, data = df_oov):\n",
        "    X = data['sentence']\n",
        "    y = data['label']\n",
        "    X_train, X_test, y_train, y_test = train_test_split(X, y, test_size = 0.30, stratify = y, random_state=101)\n",
        "\n",
        "    vectorizer = CountVectorizer(max_features = 200000)\n",
        "    document_term_matrix = vectorizer.fit_transform([s for s in X_train])\n",
        "    train_vocab = vectorizer.vocabulary_\n",
        "\n",
        "    # replace oov words in test set with a synonym (found via wordnet) that is present in the training vocab\n",
        "    for s in X_test:\n",
        "        for w in s.split():\n",
        "            if w not in train_vocab:\n",
        "                synonyms = []\n",
        "                for syn in wordnet.synsets(w):\n",
        "                    for l in syn.lemmas():\n",
        "                        synonyms.append(l.name())\n",
        "                for syn in synonyms:\n",
        "                    if syn in train_vocab:\n",
        "                        s.replace(w, syn)\n",
        "                        break\n",
        "\n",
        "\n",
        "    \n",
        "    pipe = Pipeline(steps = [('vectorizer', vectorizer), ('svc', SVC(gamma = 1, kernel = 'rbf'))])\n",
        "    pipe.fit(X_train, y_train)\n",
        "    %time pipe.fit(X_train, y_train)\n",
        "    \n",
        "    y_pred = pipe.predict(X_test)\n",
        "    \n",
        "    metrics.f1_score(y_test, y_pred, average='weighted')\n",
        "    print(\"Accuracy: {}%\".format(accuracy_score(y_test, y_pred) * 100))\n",
        "    \n",
        "    print(classification_report(y_test, y_pred))\n",
        "    cm = confusion_matrix(y_test, y_pred)\n",
        "    print('Confusion Matrix : \\n' + str(cm))\n",
        "    ConfusionMatrixDisplay.from_predictions(y_test, y_pred)\n",
        "    plot = plt.show()\n",
        "    \n",
        "    return estimator, y_pred, y_test\n",
        "\n",
        "def generate_output_file(method, filename: str):\n",
        "    test = pd.read_csv(filename)\n",
        "    test.sentence = test.sentence.astype(str)\n",
        "    id = test.index.to_list()\n",
        "    estimator, label, gold = model(method, test)\n",
        "    gc.collect()\n",
        "    name, ext = os.path.splitext(os.path.basename(filename))\n",
        "    out_file = 'results/'  + 'Results_' + 'SVC_OOV' +'_pred' + ext\n",
        "    output = pd.DataFrame(list(zip(id, list(label), list(gold))), columns = ['id', 'label', 'gold'])\n",
        "    output['label'] = np.where(output['label'] == 0, 'not okay', 'okay')\n",
        "    output['gold'] = np.where(output['gold'] == 0, 'not okay', 'okay')\n",
        "    output.to_csv(out_file, sep=',', encoding='utf-8', index = False)\n",
        "    return output.head(), estimator"
      ]
    },
    {
      "cell_type": "code",
      "execution_count": null,
      "metadata": {
        "id": "7ol9giha3fpg",
        "outputId": "71334cba-75d9-4715-aa28-0d2eeb42cec4"
      },
      "outputs": [
        {
          "name": "stdout",
          "output_type": "stream",
          "text": [
            "CPU times: user 20min 59s, sys: 16 ms, total: 20min 59s\n",
            "Wall time: 20min 59s\n",
            "Accuracy: 82.70607486193495%\n",
            "              precision    recall  f1-score   support\n",
            "\n",
            "           0       0.77      0.94      0.84     14667\n",
            "           1       0.92      0.71      0.81     14667\n",
            "\n",
            "    accuracy                           0.83     29334\n",
            "   macro avg       0.84      0.83      0.82     29334\n",
            "weighted avg       0.84      0.83      0.82     29334\n",
            "\n",
            "Confusion Matrix : \n",
            "[[13777   890]\n",
            " [ 4183 10484]]\n"
          ]
        },
        {
          "data": {
            "image/png": "[encoded data removed]",
            "text/plain": [
              "<Figure size 432x288 with 2 Axes>"
            ]
          },
          "metadata": {
            "needs_background": "light"
          },
          "output_type": "display_data"
        }
      ],
      "source": [
        "method = SVC(gamma = 1, kernel = 'rbf')\n",
        "output, estimator = generate_output_file(method, 'datasets/prepped_data/df_balanced.csv')"
      ]
    },
    {
      "cell_type": "code",
      "execution_count": null,
      "metadata": {
        "id": "Z5vjgYMG3fpg"
      },
      "outputs": [],
      "source": [
        "def model(method, data = df_oov):\n",
        "    X = data['sentence']\n",
        "    y = data['label']\n",
        "    X_train, X_test, y_train, y_test = train_test_split(X, y, test_size = 0.30, stratify = y, random_state=101)\n",
        "\n",
        "    vectorizer = CountVectorizer(max_features = 400000)\n",
        "    document_term_matrix = vectorizer.fit_transform([s for s in X_train])\n",
        "    train_vocab = vectorizer.vocabulary_\n",
        "\n",
        "    # replace oov words in test set with a synonym (found via wordnet) that is present in the training vocab\n",
        "    for s in X_test:\n",
        "        for w in s.split():\n",
        "            if w not in train_vocab:\n",
        "                synonyms = []\n",
        "                for syn in wordnet.synsets(w):\n",
        "                    for l in syn.lemmas():\n",
        "                        synonyms.append(l.name())\n",
        "                for syn in synonyms:\n",
        "                    if syn in train_vocab:\n",
        "                        s.replace(w, syn)\n",
        "                        break\n",
        "\n",
        "\n",
        "    \n",
        "    pipe = Pipeline(steps = [('vectorizer', vectorizer), ('svc', SVC(gamma = 1, kernel = 'rbf'))])\n",
        "    pipe.fit(X_train, y_train)\n",
        "    %time pipe.fit(X_train, y_train)\n",
        "    \n",
        "    y_pred = pipe.predict(X_test)\n",
        "    \n",
        "    metrics.f1_score(y_test, y_pred, average='weighted')\n",
        "    print(\"Accuracy: {}%\".format(accuracy_score(y_test, y_pred) * 100))\n",
        "    \n",
        "    print(classification_report(y_test, y_pred))\n",
        "    cm = confusion_matrix(y_test, y_pred)\n",
        "    print('Confusion Matrix : \\n' + str(cm))\n",
        "    ConfusionMatrixDisplay.from_predictions(y_test, y_pred)\n",
        "    plot = plt.show()\n",
        "    \n",
        "    return estimator, y_pred, y_test\n",
        "\n",
        "def generate_output_file(method, filename: str):\n",
        "    test = pd.read_csv(filename)\n",
        "    test.sentence = test.sentence.astype(str)\n",
        "    id = test.index.to_list()\n",
        "    estimator, label, gold = model(method, test)\n",
        "    gc.collect()\n",
        "    name, ext = os.path.splitext(os.path.basename(filename))\n",
        "    out_file = 'results/'  + 'Results_' + 'SVC_OOV' +'_pred' + ext\n",
        "    output = pd.DataFrame(list(zip(id, list(label), list(gold))), columns = ['id', 'label', 'gold'])\n",
        "    output['label'] = np.where(output['label'] == 0, 'not okay', 'okay')\n",
        "    output['gold'] = np.where(output['gold'] == 0, 'not okay', 'okay')\n",
        "    output.to_csv(out_file, sep=',', encoding='utf-8', index = False)\n",
        "    return output.head(), estimator"
      ]
    },
    {
      "cell_type": "code",
      "execution_count": null,
      "metadata": {
        "id": "ik0iJaVT3fpg",
        "outputId": "26474416-d6a2-470b-d27b-e50d40b35895"
      },
      "outputs": [
        {
          "name": "stdout",
          "output_type": "stream",
          "text": [
            "CPU times: user 21min 17s, sys: 20 ms, total: 21min 17s\n",
            "Wall time: 21min 18s\n",
            "Accuracy: 82.70607486193495%\n",
            "              precision    recall  f1-score   support\n",
            "\n",
            "           0       0.77      0.94      0.84     14667\n",
            "           1       0.92      0.71      0.81     14667\n",
            "\n",
            "    accuracy                           0.83     29334\n",
            "   macro avg       0.84      0.83      0.82     29334\n",
            "weighted avg       0.84      0.83      0.82     29334\n",
            "\n",
            "Confusion Matrix : \n",
            "[[13777   890]\n",
            " [ 4183 10484]]\n"
          ]
        },
        {
          "data": {
            "image/png": "[encoded data removed]",
            "text/plain": [
              "<Figure size 432x288 with 2 Axes>"
            ]
          },
          "metadata": {
            "needs_background": "light"
          },
          "output_type": "display_data"
        }
      ],
      "source": [
        "method = SVC(gamma = 1, kernel = 'rbf')\n",
        "output, estimator = generate_output_file(method, 'datasets/prepped_data/df_balanced.csv')"
      ]
    },
    {
      "cell_type": "code",
      "execution_count": null,
      "metadata": {
        "id": "Vv2mMeHo3fph"
      },
      "outputs": [],
      "source": [
        "def model(method, data = df_oov):\n",
        "    X = data['sentence']\n",
        "    y = data['label']\n",
        "    X_train, X_test, y_train, y_test = train_test_split(X, y, test_size = 0.30, stratify = y, random_state=101)\n",
        "\n",
        "    vectorizer = CountVectorizer(max_features = 100000000) \n",
        "    document_term_matrix = vectorizer.fit_transform([s for s in X_train])\n",
        "    train_vocab = vectorizer.vocabulary_\n",
        "\n",
        "    # replace oov words in test set with a synonym (found via wordnet) that is present in the training vocab\n",
        "    for s in X_test:\n",
        "        for w in s.split():\n",
        "            if w not in train_vocab:\n",
        "                synonyms = []\n",
        "                for syn in wordnet.synsets(w):\n",
        "                    for l in syn.lemmas():\n",
        "                        synonyms.append(l.name())\n",
        "                for syn in synonyms:\n",
        "                    if syn in train_vocab:\n",
        "                        s.replace(w, syn)\n",
        "                        break\n",
        "\n",
        "\n",
        "    \n",
        "    pipe = Pipeline(steps = [('vectorizer', vectorizer), ('svc', SVC(gamma = 1, kernel = 'rbf'))])\n",
        "    pipe.fit(X_train, y_train)\n",
        "    %time pipe.fit(X_train, y_train)\n",
        "    \n",
        "    y_pred = pipe.predict(X_test)\n",
        "    \n",
        "    metrics.f1_score(y_test, y_pred, average='weighted')\n",
        "    print(\"Accuracy: {}%\".format(accuracy_score(y_test, y_pred) * 100))\n",
        "    \n",
        "    print(classification_report(y_test, y_pred))\n",
        "    cm = confusion_matrix(y_test, y_pred)\n",
        "    print('Confusion Matrix : \\n' + str(cm))\n",
        "    ConfusionMatrixDisplay.from_predictions(y_test, y_pred)\n",
        "    plot = plt.show()\n",
        "    \n",
        "    return estimator, y_pred, y_test\n",
        "\n",
        "def generate_output_file(method, filename: str):\n",
        "    test = pd.read_csv(filename)\n",
        "    test.sentence = test.sentence.astype(str)\n",
        "    id = test.index.to_list()\n",
        "    estimator, label, gold = model(method, test)\n",
        "    gc.collect()\n",
        "    name, ext = os.path.splitext(os.path.basename(filename))\n",
        "    out_file = 'results/'  + 'Results_' + 'SVC_OOV' +'_pred' + ext\n",
        "    output = pd.DataFrame(list(zip(id, list(label), list(gold))), columns = ['id', 'label', 'gold'])\n",
        "    output['label'] = np.where(output['label'] == 0, 'not okay', 'okay')\n",
        "    output['gold'] = np.where(output['gold'] == 0, 'not okay', 'okay')\n",
        "    output.to_csv(out_file, sep=',', encoding='utf-8', index = False)\n",
        "    return output.head(), estimator"
      ]
    },
    {
      "cell_type": "code",
      "execution_count": null,
      "metadata": {
        "id": "Ar-jlUGq3fph",
        "outputId": "f1413d10-83d8-4e9e-b539-23833ab51206"
      },
      "outputs": [
        {
          "name": "stdout",
          "output_type": "stream",
          "text": [
            "CPU times: user 21min 13s, sys: 20 ms, total: 21min 13s\n",
            "Wall time: 21min 13s\n",
            "Accuracy: 82.70607486193495%\n",
            "              precision    recall  f1-score   support\n",
            "\n",
            "           0       0.77      0.94      0.84     14667\n",
            "           1       0.92      0.71      0.81     14667\n",
            "\n",
            "    accuracy                           0.83     29334\n",
            "   macro avg       0.84      0.83      0.82     29334\n",
            "weighted avg       0.84      0.83      0.82     29334\n",
            "\n",
            "Confusion Matrix : \n",
            "[[13777   890]\n",
            " [ 4183 10484]]\n"
          ]
        },
        {
          "data": {
            "image/png": "[encoded data removed]",
            "text/plain": [
              "<Figure size 432x288 with 2 Axes>"
            ]
          },
          "metadata": {
            "needs_background": "light"
          },
          "output_type": "display_data"
        }
      ],
      "source": [
        "method = SVC(gamma = 1, kernel = 'rbf')\n",
        "output, estimator = generate_output_file(method, 'datasets/prepped_data/df_balanced.csv')"
      ]
    },
    {
      "cell_type": "code",
      "execution_count": null,
      "metadata": {
        "id": "0eBma2c23fph"
      },
      "outputs": [],
      "source": [
        "def model(method, data = df_oov):\n",
        "    X = data['sentence']\n",
        "    y = data['label']\n",
        "    X_train, X_test, y_train, y_test = train_test_split(X, y, test_size = 0.30, stratify = y, random_state=101)\n",
        "\n",
        "    vectorizer = CountVectorizer(max_features = 300000000) \n",
        "    document_term_matrix = vectorizer.fit_transform([s for s in X_train])\n",
        "    train_vocab = vectorizer.vocabulary_\n",
        "\n",
        "    # replace oov words in test set with a synonym (found via wordnet) that is present in the training vocab\n",
        "    for s in X_test:\n",
        "        for w in s.split():\n",
        "            if w not in train_vocab:\n",
        "                synonyms = []\n",
        "                for syn in wordnet.synsets(w):\n",
        "                    for l in syn.lemmas():\n",
        "                        synonyms.append(l.name())\n",
        "                for syn in synonyms:\n",
        "                    if syn in train_vocab:\n",
        "                        s.replace(w, syn)\n",
        "                        break\n",
        "\n",
        "\n",
        "    \n",
        "    pipe = Pipeline(steps = [('vectorizer', vectorizer), ('svc', SVC(gamma = 1, kernel = 'rbf'))])\n",
        "    pipe.fit(X_train, y_train)\n",
        "    %time pipe.fit(X_train, y_train)\n",
        "    \n",
        "    y_pred = pipe.predict(X_test)\n",
        "    \n",
        "    metrics.f1_score(y_test, y_pred, average='weighted')\n",
        "    print(\"Accuracy: {}%\".format(accuracy_score(y_test, y_pred) * 100))\n",
        "    \n",
        "    print(classification_report(y_test, y_pred))\n",
        "    cm = confusion_matrix(y_test, y_pred)\n",
        "    print('Confusion Matrix : \\n' + str(cm))\n",
        "    ConfusionMatrixDisplay.from_predictions(y_test, y_pred)\n",
        "    plot = plt.show()\n",
        "    \n",
        "    return estimator, y_pred, y_test\n",
        "\n",
        "def generate_output_file(method, filename: str):\n",
        "    test = pd.read_csv(filename)\n",
        "    test.sentence = test.sentence.astype(str)\n",
        "    id = test.index.to_list()\n",
        "    estimator, label, gold = model(method, test)\n",
        "    gc.collect()\n",
        "    name, ext = os.path.splitext(os.path.basename(filename))\n",
        "    out_file = 'results/'  + 'Results_' + 'SVC_OOV' +'_pred' + ext\n",
        "    output = pd.DataFrame(list(zip(id, list(label), list(gold))), columns = ['id', 'label', 'gold'])\n",
        "    output['label'] = np.where(output['label'] == 0, 'not okay', 'okay')\n",
        "    output['gold'] = np.where(output['gold'] == 0, 'not okay', 'okay')\n",
        "    output.to_csv(out_file, sep=',', encoding='utf-8', index = False)\n",
        "    return output.head(), estimator"
      ]
    },
    {
      "cell_type": "code",
      "execution_count": null,
      "metadata": {
        "id": "0sDbxaWJ3fpi",
        "outputId": "857c2194-2232-463f-a97e-5980a9d4f07d"
      },
      "outputs": [
        {
          "name": "stdout",
          "output_type": "stream",
          "text": [
            "CPU times: user 20min 58s, sys: 180 ms, total: 20min 58s\n",
            "Wall time: 20min 59s\n",
            "Accuracy: 82.70607486193495%\n",
            "              precision    recall  f1-score   support\n",
            "\n",
            "           0       0.77      0.94      0.84     14667\n",
            "           1       0.92      0.71      0.81     14667\n",
            "\n",
            "    accuracy                           0.83     29334\n",
            "   macro avg       0.84      0.83      0.82     29334\n",
            "weighted avg       0.84      0.83      0.82     29334\n",
            "\n",
            "Confusion Matrix : \n",
            "[[13777   890]\n",
            " [ 4183 10484]]\n"
          ]
        },
        {
          "data": {
            "image/png": "[encoded data removed]",
            "text/plain": [
              "<Figure size 432x288 with 2 Axes>"
            ]
          },
          "metadata": {
            "needs_background": "light"
          },
          "output_type": "display_data"
        }
      ],
      "source": [
        "method = SVC(gamma = 1, kernel = 'rbf')\n",
        "output, estimator = generate_output_file(method, 'datasets/prepped_data/df_balanced.csv')"
      ]
    },
    {
      "cell_type": "code",
      "execution_count": null,
      "metadata": {
        "id": "AvV5_Y963fpj"
      },
      "outputs": [],
      "source": [
        "def model(method, data = df_oov):\n",
        "    X = data['sentence']\n",
        "    y = data['label']\n",
        "    X_train, X_test, y_train, y_test = train_test_split(X, y, test_size = 0.30, stratify = y, random_state=101)\n",
        "\n",
        "    vectorizer = CountVectorizer(max_features = 5000) \n",
        "    document_term_matrix = vectorizer.fit_transform([s for s in X_train])\n",
        "    train_vocab = vectorizer.vocabulary_\n",
        "\n",
        "    # replace oov words in test set with a synonym (found via wordnet) that is present in the training vocab\n",
        "    for s in X_test:\n",
        "        for w in s.split():\n",
        "            if w not in train_vocab:\n",
        "                synonyms = []\n",
        "                for syn in wordnet.synsets(w):\n",
        "                    for l in syn.lemmas():\n",
        "                        synonyms.append(l.name())\n",
        "                for syn in synonyms:\n",
        "                    if syn in train_vocab:\n",
        "                        s.replace(w, syn)\n",
        "                        break\n",
        "\n",
        "\n",
        "    \n",
        "    pipe = Pipeline(steps = [('vectorizer', vectorizer), ('svc', SVC(gamma = 1, kernel = 'rbf'))])\n",
        "    pipe.fit(X_train, y_train)\n",
        "    %time pipe.fit(X_train, y_train)\n",
        "    \n",
        "    y_pred = pipe.predict(X_test)\n",
        "    \n",
        "    metrics.f1_score(y_test, y_pred, average='weighted')\n",
        "    print(\"Accuracy: {}%\".format(accuracy_score(y_test, y_pred) * 100))\n",
        "    \n",
        "    print(classification_report(y_test, y_pred))\n",
        "    cm = confusion_matrix(y_test, y_pred)\n",
        "    print('Confusion Matrix : \\n' + str(cm))\n",
        "    ConfusionMatrixDisplay.from_predictions(y_test, y_pred)\n",
        "    plot = plt.show()\n",
        "    \n",
        "    return estimator, y_pred, y_test\n",
        "\n",
        "def generate_output_file(method, filename: str):\n",
        "    test = pd.read_csv(filename)\n",
        "    test.sentence = test.sentence.astype(str)\n",
        "    id = test.index.to_list()\n",
        "    estimator, label, gold = model(method, test)\n",
        "    gc.collect()\n",
        "    name, ext = os.path.splitext(os.path.basename(filename))\n",
        "    out_file = 'results/'  + 'Results_' + 'SVC_OOV' +'_pred' + ext\n",
        "    output = pd.DataFrame(list(zip(id, list(label), list(gold))), columns = ['id', 'label', 'gold'])\n",
        "    output['label'] = np.where(output['label'] == 0, 'not okay', 'okay')\n",
        "    output['gold'] = np.where(output['gold'] == 0, 'not okay', 'okay')\n",
        "    output.to_csv(out_file, sep=',', encoding='utf-8', index = False)\n",
        "    return output.head(), estimator"
      ]
    },
    {
      "cell_type": "code",
      "execution_count": null,
      "metadata": {
        "id": "YaxUbnyy3fpj",
        "outputId": "30c48810-4915-4020-8a88-5938a1e7b6e5"
      },
      "outputs": [
        {
          "name": "stdout",
          "output_type": "stream",
          "text": [
            "CPU times: user 15min 10s, sys: 4.01 ms, total: 15min 10s\n",
            "Wall time: 15min 11s\n",
            "Accuracy: 82.1913138337765%\n",
            "              precision    recall  f1-score   support\n",
            "\n",
            "           0       0.77      0.93      0.84     14667\n",
            "           1       0.91      0.72      0.80     14667\n",
            "\n",
            "    accuracy                           0.82     29334\n",
            "   macro avg       0.84      0.82      0.82     29334\n",
            "weighted avg       0.84      0.82      0.82     29334\n",
            "\n",
            "Confusion Matrix : \n",
            "[[13590  1077]\n",
            " [ 4147 10520]]\n"
          ]
        },
        {
          "data": {
            "image/png": "[encoded data removed]",
            "text/plain": [
              "<Figure size 432x288 with 2 Axes>"
            ]
          },
          "metadata": {
            "needs_background": "light"
          },
          "output_type": "display_data"
        }
      ],
      "source": [
        "method = SVC(gamma = 1, kernel = 'rbf')\n",
        "output, estimator = generate_output_file(method, 'datasets/prepped_data/df_balanced.csv')"
      ]
    },
    {
      "cell_type": "code",
      "execution_count": null,
      "metadata": {
        "id": "G417OE8-3fpk"
      },
      "outputs": [],
      "source": [
        "def model(method, data = df_oov):\n",
        "    X = data['sentence']\n",
        "    y = data['label']\n",
        "    X_train, X_test, y_train, y_test = train_test_split(X, y, test_size = 0.30, stratify = y, random_state=101)\n",
        "\n",
        "    vectorizer = CountVectorizer(max_features = 1000) \n",
        "    document_term_matrix = vectorizer.fit_transform([s for s in X_train])\n",
        "    train_vocab = vectorizer.vocabulary_\n",
        "\n",
        "    # replace oov words in test set with a synonym (found via wordnet) that is present in the training vocab\n",
        "    for s in X_test:\n",
        "        for w in s.split():\n",
        "            if w not in train_vocab:\n",
        "                synonyms = []\n",
        "                for syn in wordnet.synsets(w):\n",
        "                    for l in syn.lemmas():\n",
        "                        synonyms.append(l.name())\n",
        "                for syn in synonyms:\n",
        "                    if syn in train_vocab:\n",
        "                        s.replace(w, syn)\n",
        "                        break\n",
        "\n",
        "\n",
        "    \n",
        "    pipe = Pipeline(steps = [('vectorizer', vectorizer), ('svc', SVC(gamma = 1, kernel = 'rbf'))])\n",
        "    pipe.fit(X_train, y_train)\n",
        "    %time pipe.fit(X_train, y_train)\n",
        "    \n",
        "    y_pred = pipe.predict(X_test)\n",
        "    \n",
        "    metrics.f1_score(y_test, y_pred, average='weighted')\n",
        "    print(\"Accuracy: {}%\".format(accuracy_score(y_test, y_pred) * 100))\n",
        "    \n",
        "    print(classification_report(y_test, y_pred))\n",
        "    cm = confusion_matrix(y_test, y_pred)\n",
        "    print('Confusion Matrix : \\n' + str(cm))\n",
        "    ConfusionMatrixDisplay.from_predictions(y_test, y_pred)\n",
        "    plot = plt.show()\n",
        "    \n",
        "    return estimator, y_pred, y_test\n",
        "\n",
        "def generate_output_file(method, filename: str):\n",
        "    test = pd.read_csv(filename)\n",
        "    test.sentence = test.sentence.astype(str)\n",
        "    id = test.index.to_list()\n",
        "    estimator, label, gold = model(method, test)\n",
        "    gc.collect()\n",
        "    name, ext = os.path.splitext(os.path.basename(filename))\n",
        "    out_file = 'results/'  + 'Results_' + 'SVC_OOV' +'_pred' + ext\n",
        "    output = pd.DataFrame(list(zip(id, list(label), list(gold))), columns = ['id', 'label', 'gold'])\n",
        "    output['label'] = np.where(output['label'] == 0, 'not okay', 'okay')\n",
        "    output['gold'] = np.where(output['gold'] == 0, 'not okay', 'okay')\n",
        "    output.to_csv(out_file, sep=',', encoding='utf-8', index = False)\n",
        "    return output.head(), estimator"
      ]
    },
    {
      "cell_type": "code",
      "execution_count": null,
      "metadata": {
        "id": "oc9eTq7K3fpk",
        "outputId": "359539b2-2b2c-4fa4-f3b3-437358e46616"
      },
      "outputs": [
        {
          "name": "stdout",
          "output_type": "stream",
          "text": [
            "CPU times: user 7min 54s, sys: 88 ms, total: 7min 54s\n",
            "Wall time: 7min 54s\n",
            "Accuracy: 79.42319492738802%\n",
            "              precision    recall  f1-score   support\n",
            "\n",
            "           0       0.77      0.85      0.80     14667\n",
            "           1       0.83      0.74      0.78     14667\n",
            "\n",
            "    accuracy                           0.79     29334\n",
            "   macro avg       0.80      0.79      0.79     29334\n",
            "weighted avg       0.80      0.79      0.79     29334\n",
            "\n",
            "Confusion Matrix : \n",
            "[[12434  2233]\n",
            " [ 3803 10864]]\n"
          ]
        },
        {
          "data": {
            "image/png": "[encoded data removed]",
            "text/plain": [
              "<Figure size 432x288 with 2 Axes>"
            ]
          },
          "metadata": {
            "needs_background": "light"
          },
          "output_type": "display_data"
        }
      ],
      "source": [
        "method = SVC(gamma = 1, kernel = 'rbf')\n",
        "output, estimator = generate_output_file(method, 'datasets/prepped_data/df_balanced.csv')"
      ]
    },
    {
      "cell_type": "code",
      "execution_count": null,
      "metadata": {
        "id": "TSazwGMa3fpl"
      },
      "outputs": [],
      "source": [
        "def model(method, data = df_oov):\n",
        "    X = data['sentence']\n",
        "    y = data['label']\n",
        "    X_train, X_test, y_train, y_test = train_test_split(X, y, test_size = 0.30, stratify = y, random_state=101)\n",
        "\n",
        "    vectorizer = CountVectorizer(max_features = 500)\n",
        "    document_term_matrix = vectorizer.fit_transform([s for s in X_train])\n",
        "    train_vocab = vectorizer.vocabulary_\n",
        "\n",
        "    # replace oov words in test set with a synonym (found via wordnet) that is present in the training vocab\n",
        "    for s in X_test:\n",
        "        for w in s.split():\n",
        "            if w not in train_vocab:\n",
        "                synonyms = []\n",
        "                for syn in wordnet.synsets(w):\n",
        "                    for l in syn.lemmas():\n",
        "                        synonyms.append(l.name())\n",
        "                for syn in synonyms:\n",
        "                    if syn in train_vocab:\n",
        "                        s.replace(w, syn)\n",
        "                        break\n",
        "\n",
        "\n",
        "    \n",
        "    pipe = Pipeline(steps = [('vectorizer', vectorizer), ('svc', SVC(gamma = 1, kernel = 'rbf'))])\n",
        "    pipe.fit(X_train, y_train)\n",
        "    %time pipe.fit(X_train, y_train)\n",
        "    \n",
        "    y_pred = pipe.predict(X_test)\n",
        "    \n",
        "    metrics.f1_score(y_test, y_pred, average='weighted')\n",
        "    print(\"Accuracy: {}%\".format(accuracy_score(y_test, y_pred) * 100))\n",
        "    \n",
        "    print(classification_report(y_test, y_pred))\n",
        "    cm = confusion_matrix(y_test, y_pred)\n",
        "    print('Confusion Matrix : \\n' + str(cm))\n",
        "    ConfusionMatrixDisplay.from_predictions(y_test, y_pred)\n",
        "    plot = plt.show()\n",
        "    \n",
        "    return estimator, y_pred, y_test\n",
        "\n",
        "def generate_output_file(method, filename: str):\n",
        "    test = pd.read_csv(filename)\n",
        "    test.sentence = test.sentence.astype(str)\n",
        "    id = test.index.to_list()\n",
        "    estimator, label, gold = model(method, test)\n",
        "    gc.collect()\n",
        "    name, ext = os.path.splitext(os.path.basename(filename))\n",
        "    out_file = 'results/'  + 'Results_' + 'SVC_OOV' +'_pred' + ext\n",
        "    output = pd.DataFrame(list(zip(id, list(label), list(gold))), columns = ['id', 'label', 'gold'])\n",
        "    output['label'] = np.where(output['label'] == 0, 'not okay', 'okay')\n",
        "    output['gold'] = np.where(output['gold'] == 0, 'not okay', 'okay')\n",
        "    output.to_csv(out_file, sep=',', encoding='utf-8', index = False)\n",
        "    return output.head(), estimator"
      ]
    },
    {
      "cell_type": "code",
      "execution_count": null,
      "metadata": {
        "id": "9x7bjaEp3fpl",
        "outputId": "d875ad7b-fc16-49cf-99d0-5fdfaf80c3a2"
      },
      "outputs": [
        {
          "name": "stdout",
          "output_type": "stream",
          "text": [
            "CPU times: user 8min 51s, sys: 52 ms, total: 8min 51s\n",
            "Wall time: 8min 51s\n",
            "Accuracy: 77.18006408945251%\n",
            "              precision    recall  f1-score   support\n",
            "\n",
            "           0       0.76      0.79      0.78     14667\n",
            "           1       0.78      0.75      0.77     14667\n",
            "\n",
            "    accuracy                           0.77     29334\n",
            "   macro avg       0.77      0.77      0.77     29334\n",
            "weighted avg       0.77      0.77      0.77     29334\n",
            "\n",
            "Confusion Matrix : \n",
            "[[11608  3059]\n",
            " [ 3635 11032]]\n"
          ]
        },
        {
          "data": {
            "image/png": "[encoded data removed]",
            "text/plain": [
              "<Figure size 432x288 with 2 Axes>"
            ]
          },
          "metadata": {
            "needs_background": "light"
          },
          "output_type": "display_data"
        }
      ],
      "source": [
        "method = SVC(gamma = 1, kernel = 'rbf')\n",
        "output, estimator = generate_output_file(method, 'datasets/prepped_data/df_balanced.csv')"
      ]
    },
    {
      "cell_type": "code",
      "execution_count": null,
      "metadata": {
        "colab": {
          "base_uri": "https://localhost:8080/"
        },
        "id": "1tIbhKuJtk0z",
        "outputId": "69b905dd-73d4-4ea3-dd28-f754f11da877"
      },
      "outputs": [
        {
          "name": "stdout",
          "output_type": "stream",
          "text": [
            "Looking in indexes: https://pypi.org/simple, https://us-python.pkg.dev/colab-wheels/public/simple/\n",
            "Collecting varname\n",
            "  Downloading varname-0.8.3-py3-none-any.whl (21 kB)\n",
            "Collecting executing<0.9.0,>=0.8.3\n",
            "  Downloading executing-0.8.3-py2.py3-none-any.whl (16 kB)\n",
            "Collecting asttokens<3.0.0,>=2.0.0\n",
            "  Downloading asttokens-2.0.5-py2.py3-none-any.whl (20 kB)\n",
            "Collecting pure_eval<1.0.0\n",
            "  Downloading pure_eval-0.2.2-py3-none-any.whl (11 kB)\n",
            "Requirement already satisfied: six in /usr/local/lib/python3.7/dist-packages (from asttokens<3.0.0,>=2.0.0->varname) (1.15.0)\n",
            "Installing collected packages: pure-eval, executing, asttokens, varname\n",
            "Successfully installed asttokens-2.0.5 executing-0.8.3 pure-eval-0.2.2 varname-0.8.3\n"
          ]
        }
      ],
      "source": [
        "# experimented with ensemble model (found optimal hyperparameters for each classifier in other notebook), but not used eventually.\n",
        "import pandas as pd\n",
        "from nltk import word_tokenize, TweetTokenizer, pos_tag\n",
        "\n",
        "! pip3 install varname\n",
        "from varname import nameof\n",
        "\n",
        "import pandas as pd\n",
        "# import tensorflow as tf\n",
        "import re\n",
        "import numpy as np\n",
        "import seaborn as sn\n",
        "import csv\n",
        "import os\n",
        "\n",
        "from sklearn.metrics import f1_score, classification_report, accuracy_score, confusion_matrix, ConfusionMatrixDisplay\n",
        "from sklearn.model_selection import train_test_split, cross_val_score, GridSearchCV, RandomizedSearchCV\n",
        "from sklearn.feature_extraction.text import TfidfVectorizer, CountVectorizer\n",
        "from sklearn.pipeline import make_pipeline, Pipeline, FeatureUnion\n",
        "from sklearn.linear_model import SGDClassifier, LogisticRegression\n",
        "from sklearn.base import BaseEstimator, TransformerMixin\n",
        "from sklearn.neighbors import KNeighborsClassifier\n",
        "from sklearn.naive_bayes import MultinomialNB, BernoulliNB\n",
        "from sklearn.decomposition import TruncatedSVD\n",
        "from sklearn.tree import DecisionTreeClassifier\n",
        "from sklearn.svm import LinearSVC, SVC\n",
        "from sklearn.ensemble import RandomForestClassifier, VotingClassifier, StackingClassifier \n",
        "from sklearn.compose import make_column_transformer, make_column_selector, ColumnTransformer"
      ]
    },
    {
      "cell_type": "code",
      "execution_count": null,
      "metadata": {
        "colab": {
          "base_uri": "https://localhost:8080/"
        },
        "id": "MfotoENBrV97",
        "outputId": "e3f37304-3ca1-47e2-8e25-f51b8dc708bb"
      },
      "outputs": [
        {
          "name": "stderr",
          "output_type": "stream",
          "text": [
            "The default value of regex will change from True to False in a future version.\n",
            "In a future version of pandas all arguments of DataFrame.drop except for the argument 'labels' will be keyword-only\n"
          ]
        },
        {
          "name": "stdout",
          "output_type": "stream",
          "text": [
            "Fitting 5 folds for each of 1 candidates, totalling 5 fits\n"
          ]
        },
        {
          "name": "stderr",
          "output_type": "stream",
          "text": [
            "A worker stopped while some jobs were given to the executor. This can be caused by a too short worker timeout or by a memory leak.\n",
            "One or more of the test scores are non-finite: [nan]\n"
          ]
        },
        {
          "name": "stdout",
          "output_type": "stream",
          "text": [
            "Fitting 5 folds for each of 1 candidates, totalling 5 fits\n"
          ]
        }
      ],
      "source": [
        "def model_ensemble(data = df_balanced):\n",
        "    preprocessor(data)\n",
        "    X = data[['sentence']]\n",
        "    y = data['label']\n",
        "        \n",
        "    X_train, X_test, y_train, y_test = train_test_split(X, y, test_size = 0.20, stratify = y, random_state= 42)\n",
        "\n",
        "    # classifiers with optimal hyperparameters, found in other notebook (excluded, because didnt use this model eventually)\n",
        "    clf1 = LogisticRegression(C = 100, solver = 'liblinear', penalty = 'l2') \n",
        "    clf2 = BernoulliNB(alpha = 0.1)\n",
        "    clf3 = MultinomialNB(alpha = 0.1) \n",
        "    clf4 = SVC(gamma = 1, kernel = 'rbf')\n",
        "    clf5 = XGBClassifier(booster = 'gbtree')\n",
        "    \n",
        "    count = CountVectorizer(max_features = 10000)\n",
        "    c_vec = ColumnTransformer([\n",
        "      ('c_vec_sentence', count, 'sentence')])\n",
        "    \n",
        "    tfidf = TfidfVectorizer(max_features = 10000)\n",
        "    t_vec = ColumnTransformer([\n",
        "      ('t_vec_sentence', count, 'sentence')])\n",
        "    \n",
        "    union = FeatureUnion([('c_vec', c_vec), ('t_vec', t_vec)])\n",
        "\n",
        "    # 78, 74, 75, 82, 64\n",
        "\n",
        "    vclf = VotingClassifier(estimators = [('lr1', clf1), ('bnb', clf2), ('mnb', clf3), ('svc', clf4), ('gbt', clf5)],\n",
        "                                          voting = 'soft', weights = [5, 3, 4, 8, 1],\n",
        "                                          flatten_transform = True)\n",
        "    \n",
        "    params = [{\n",
        "    'union__c_vec__c_vec_sentence__analyzer': ['word'],\n",
        "    'union__c_vec__c_vec_sentence__ngram_range': [(1, 1)],\n",
        "    'union__t_vec__t_vec_sentence__analyzer': ['word'],\n",
        "    'union__t_vec__t_vec_sentence__ngram_range': [(1, 1)],\n",
        "    'vclf__bnb__alpha': [0.5],\n",
        "    'vclf__bnb__fit_prior': [True],\n",
        "    'vclf__mnb__alpha': [0.01],\n",
        "    'vclf__mnb__fit_prior': [False]\n",
        "    }]\n",
        "\n",
        "    \n",
        "    \n",
        "    ensemble_pipe = Pipeline(steps = [('union', union), ('vclf', vclf)])  \n",
        "    \n",
        "    gs = GridSearchCV(ensemble_pipe, params, cv = 5, scoring = 'accuracy', n_jobs = -1, refit = True, verbose = 5)\n",
        "    gs.fit(X_train, y_train)\n",
        "    %time gs.fit(X_train, y_train)\n",
        "    \n",
        "    estimator = gs.best_estimator_\n",
        "    y_pred = estimator.predict(X_test)\n",
        "    \n",
        "    print(\"Accuracy: {}%\".format(accuracy_score(y_test, y_pred) * 100))\n",
        "    \n",
        "    print(classification_report(y_test, y_pred))\n",
        "    cm = confusion_matrix(y_test, y_pred)\n",
        "    print('Confusion Matrix : \\n' + str(cm))\n",
        "    ConfusionMatrixDisplay.from_predictions(y_test, y_pred)\n",
        "    plot = plt.show()\n",
        "\n",
        "\n",
        "    for clf in (clf1, clf2, clf3, clf4, clf5):\n",
        "      print('Results for the seperate classifiers')\n",
        "      clf.fit(X_train, y_train)\n",
        "      y_pred = clf.predict(X_test)\n",
        "      print(clf.__class__.__name__, accuracy_score(y_test, y_pred))\n",
        "    \n",
        "      return estimator, y_pred, cm, plot\n",
        "\n",
        "def make_predictions(test_set, data = df_balanced):\n",
        "    estimator = model_ensemble(data)[0]\n",
        "\n",
        "    test = preprocessor(test_set)\n",
        "    pred = estimator.predict(test_set)\n",
        "    return pred\n",
        "\n",
        "def generate_output_file(filename: str):\n",
        "    test = pd.read_csv(filename)\n",
        "    id = test.index.to_list()\n",
        "    label = list(make_predictions(test))\n",
        "    name, ext = os.path.splitext(os.path.basename(filename))\n",
        "    out_file = '/content/gdrive/MyDrive/THESIS/results/'  + name + '_ENSEMBLE_all_pred' + ext\n",
        "    output = pd.DataFrame(list(zip(id, label)), columns = ['id', 'label'])\n",
        "    output['label'] = np.where(output['label'] == 0, 'not okay', 'okay')\n",
        "    output.to_csv(out_file, sep=',', encoding='utf-8', index = False)\n",
        "    return \n",
        "\n",
        "generate_output_file('gdrive/MyDrive/THESIS/datasets/prepped_data/df_balanced.csv')\n"
      ]
    },
    {
      "cell_type": "code",
      "execution_count": null,
      "metadata": {
        "id": "HDqTyRWYrWA3"
      },
      "outputs": [],
      "source": [
        ""
      ]
    }
  ],
  "metadata": {
    "accelerator": "GPU",
    "colab": {
      "name": "MODEL_SVC_WN_COMP.ipynb",
      "provenance": []
    },
    "kernelspec": {
      "display_name": "Python 3",
      "language": "python",
      "name": "python3"
    },
    "language_info": {
      "codemirror_mode": {
        "name": "ipython",
        "version": 3
      },
      "file_extension": ".py",
      "mimetype": "text/x-python",
      "name": "python",
      "nbconvert_exporter": "python",
      "pygments_lexer": "ipython3",
      "version": "3.9.12"
    },
    "gpuClass": "standard"
  },
  "nbformat": 4,
  "nbformat_minor": 0
}