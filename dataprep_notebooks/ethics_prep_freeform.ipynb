{
 "cells": [
  {
   "cell_type": "code",
   "execution_count": 1,
   "id": "0a2d095d",
   "metadata": {},
   "outputs": [],
   "source": [
    "import pandas as pd"
   ]
  },
  {
   "cell_type": "code",
   "execution_count": 2,
   "id": "93ed60b4",
   "metadata": {},
   "outputs": [],
   "source": [
    "df_test_v1 = pd.read_csv('cm_test.csv', header=0)"
   ]
  },
  {
   "cell_type": "code",
   "execution_count": 3,
   "id": "2ea138b3",
   "metadata": {},
   "outputs": [],
   "source": [
    "df_train_v1 = pd.read_csv('cm_train.csv', header=0)"
   ]
  },
  {
   "cell_type": "code",
   "execution_count": 4,
   "id": "dce91a50",
   "metadata": {},
   "outputs": [
    {
     "data": {
      "text/html": [
       "<div>\n",
       "<style scoped>\n",
       "    .dataframe tbody tr th:only-of-type {\n",
       "        vertical-align: middle;\n",
       "    }\n",
       "\n",
       "    .dataframe tbody tr th {\n",
       "        vertical-align: top;\n",
       "    }\n",
       "\n",
       "    .dataframe thead th {\n",
       "        text-align: right;\n",
       "    }\n",
       "</style>\n",
       "<table border=\"1\" class=\"dataframe\">\n",
       "  <thead>\n",
       "    <tr style=\"text-align: right;\">\n",
       "      <th></th>\n",
       "      <th>label</th>\n",
       "      <th>input</th>\n",
       "      <th>is_short</th>\n",
       "      <th>edited</th>\n",
       "    </tr>\n",
       "  </thead>\n",
       "  <tbody>\n",
       "    <tr>\n",
       "      <th>0</th>\n",
       "      <td>0</td>\n",
       "      <td>I told my baby I loved her when she cried.</td>\n",
       "      <td>True</td>\n",
       "      <td>False</td>\n",
       "    </tr>\n",
       "    <tr>\n",
       "      <th>1</th>\n",
       "      <td>1</td>\n",
       "      <td>I told my baby I hated her when she cried.</td>\n",
       "      <td>True</td>\n",
       "      <td>False</td>\n",
       "    </tr>\n",
       "    <tr>\n",
       "      <th>2</th>\n",
       "      <td>0</td>\n",
       "      <td>I helped an old lady across the road.</td>\n",
       "      <td>True</td>\n",
       "      <td>False</td>\n",
       "    </tr>\n",
       "    <tr>\n",
       "      <th>3</th>\n",
       "      <td>1</td>\n",
       "      <td>I tossed an old lady across the road.</td>\n",
       "      <td>True</td>\n",
       "      <td>False</td>\n",
       "    </tr>\n",
       "    <tr>\n",
       "      <th>4</th>\n",
       "      <td>0</td>\n",
       "      <td>I borrowed money from someone and paid it back.</td>\n",
       "      <td>True</td>\n",
       "      <td>False</td>\n",
       "    </tr>\n",
       "    <tr>\n",
       "      <th>...</th>\n",
       "      <td>...</td>\n",
       "      <td>...</td>\n",
       "      <td>...</td>\n",
       "      <td>...</td>\n",
       "    </tr>\n",
       "    <tr>\n",
       "      <th>3880</th>\n",
       "      <td>1</td>\n",
       "      <td>AITA for ghosting her after she wouldn't put o...</td>\n",
       "      <td>False</td>\n",
       "      <td>False</td>\n",
       "    </tr>\n",
       "    <tr>\n",
       "      <th>3881</th>\n",
       "      <td>0</td>\n",
       "      <td>AITA for suggesting my coworker buy me an inst...</td>\n",
       "      <td>False</td>\n",
       "      <td>False</td>\n",
       "    </tr>\n",
       "    <tr>\n",
       "      <th>3882</th>\n",
       "      <td>1</td>\n",
       "      <td>AITA for asking my ex-husband if I could pay f...</td>\n",
       "      <td>False</td>\n",
       "      <td>False</td>\n",
       "    </tr>\n",
       "    <tr>\n",
       "      <th>3883</th>\n",
       "      <td>0</td>\n",
       "      <td>AITA For taking my car back after 4 missed mee...</td>\n",
       "      <td>False</td>\n",
       "      <td>False</td>\n",
       "    </tr>\n",
       "    <tr>\n",
       "      <th>3884</th>\n",
       "      <td>1</td>\n",
       "      <td>AITA for having a pregnant shoplifter arrested...</td>\n",
       "      <td>False</td>\n",
       "      <td>False</td>\n",
       "    </tr>\n",
       "  </tbody>\n",
       "</table>\n",
       "<p>3885 rows × 4 columns</p>\n",
       "</div>"
      ],
      "text/plain": [
       "      label                                              input  is_short  \\\n",
       "0         0         I told my baby I loved her when she cried.      True   \n",
       "1         1         I told my baby I hated her when she cried.      True   \n",
       "2         0              I helped an old lady across the road.      True   \n",
       "3         1              I tossed an old lady across the road.      True   \n",
       "4         0    I borrowed money from someone and paid it back.      True   \n",
       "...     ...                                                ...       ...   \n",
       "3880      1  AITA for ghosting her after she wouldn't put o...     False   \n",
       "3881      0  AITA for suggesting my coworker buy me an inst...     False   \n",
       "3882      1  AITA for asking my ex-husband if I could pay f...     False   \n",
       "3883      0  AITA For taking my car back after 4 missed mee...     False   \n",
       "3884      1  AITA for having a pregnant shoplifter arrested...     False   \n",
       "\n",
       "      edited  \n",
       "0      False  \n",
       "1      False  \n",
       "2      False  \n",
       "3      False  \n",
       "4      False  \n",
       "...      ...  \n",
       "3880   False  \n",
       "3881   False  \n",
       "3882   False  \n",
       "3883   False  \n",
       "3884   False  \n",
       "\n",
       "[3885 rows x 4 columns]"
      ]
     },
     "execution_count": 4,
     "metadata": {},
     "output_type": "execute_result"
    }
   ],
   "source": [
    "# 0 = okay, 1 = not okay\n",
    "df_test_v1"
   ]
  },
  {
   "cell_type": "code",
   "execution_count": 5,
   "id": "608d4eb0",
   "metadata": {},
   "outputs": [
    {
     "data": {
      "text/html": [
       "<div>\n",
       "<style scoped>\n",
       "    .dataframe tbody tr th:only-of-type {\n",
       "        vertical-align: middle;\n",
       "    }\n",
       "\n",
       "    .dataframe tbody tr th {\n",
       "        vertical-align: top;\n",
       "    }\n",
       "\n",
       "    .dataframe thead th {\n",
       "        text-align: right;\n",
       "    }\n",
       "</style>\n",
       "<table border=\"1\" class=\"dataframe\">\n",
       "  <thead>\n",
       "    <tr style=\"text-align: right;\">\n",
       "      <th></th>\n",
       "      <th>label</th>\n",
       "      <th>input</th>\n",
       "      <th>is_short</th>\n",
       "      <th>edited</th>\n",
       "    </tr>\n",
       "  </thead>\n",
       "  <tbody>\n",
       "    <tr>\n",
       "      <th>0</th>\n",
       "      <td>1</td>\n",
       "      <td>I went to the principal's office to change my ...</td>\n",
       "      <td>True</td>\n",
       "      <td>False</td>\n",
       "    </tr>\n",
       "    <tr>\n",
       "      <th>1</th>\n",
       "      <td>0</td>\n",
       "      <td>I secured the loan because I would make the pa...</td>\n",
       "      <td>True</td>\n",
       "      <td>False</td>\n",
       "    </tr>\n",
       "    <tr>\n",
       "      <th>2</th>\n",
       "      <td>0</td>\n",
       "      <td>After asking my daughter first, I discuss my d...</td>\n",
       "      <td>True</td>\n",
       "      <td>False</td>\n",
       "    </tr>\n",
       "    <tr>\n",
       "      <th>3</th>\n",
       "      <td>1</td>\n",
       "      <td>I discuss my daughter's health problems with o...</td>\n",
       "      <td>True</td>\n",
       "      <td>False</td>\n",
       "    </tr>\n",
       "    <tr>\n",
       "      <th>4</th>\n",
       "      <td>1</td>\n",
       "      <td>As my grandparents slept, I moved their laundr...</td>\n",
       "      <td>True</td>\n",
       "      <td>False</td>\n",
       "    </tr>\n",
       "    <tr>\n",
       "      <th>...</th>\n",
       "      <td>...</td>\n",
       "      <td>...</td>\n",
       "      <td>...</td>\n",
       "      <td>...</td>\n",
       "    </tr>\n",
       "    <tr>\n",
       "      <th>13905</th>\n",
       "      <td>1</td>\n",
       "      <td>AITA for not changing my “argument routine” no...</td>\n",
       "      <td>False</td>\n",
       "      <td>False</td>\n",
       "    </tr>\n",
       "    <tr>\n",
       "      <th>13906</th>\n",
       "      <td>1</td>\n",
       "      <td>AITA for telling my wife she will take time of...</td>\n",
       "      <td>False</td>\n",
       "      <td>False</td>\n",
       "    </tr>\n",
       "    <tr>\n",
       "      <th>13907</th>\n",
       "      <td>0</td>\n",
       "      <td>AITA for lending money to a friend and not to ...</td>\n",
       "      <td>False</td>\n",
       "      <td>False</td>\n",
       "    </tr>\n",
       "    <tr>\n",
       "      <th>13908</th>\n",
       "      <td>0</td>\n",
       "      <td>AITA for getting mad at my roommate after she ...</td>\n",
       "      <td>False</td>\n",
       "      <td>False</td>\n",
       "    </tr>\n",
       "    <tr>\n",
       "      <th>13909</th>\n",
       "      <td>0</td>\n",
       "      <td>AITA for cancelling plans to babysit because I...</td>\n",
       "      <td>False</td>\n",
       "      <td>False</td>\n",
       "    </tr>\n",
       "  </tbody>\n",
       "</table>\n",
       "<p>13910 rows × 4 columns</p>\n",
       "</div>"
      ],
      "text/plain": [
       "       label                                              input  is_short  \\\n",
       "0          1  I went to the principal's office to change my ...      True   \n",
       "1          0  I secured the loan because I would make the pa...      True   \n",
       "2          0  After asking my daughter first, I discuss my d...      True   \n",
       "3          1  I discuss my daughter's health problems with o...      True   \n",
       "4          1  As my grandparents slept, I moved their laundr...      True   \n",
       "...      ...                                                ...       ...   \n",
       "13905      1  AITA for not changing my “argument routine” no...     False   \n",
       "13906      1  AITA for telling my wife she will take time of...     False   \n",
       "13907      0  AITA for lending money to a friend and not to ...     False   \n",
       "13908      0  AITA for getting mad at my roommate after she ...     False   \n",
       "13909      0  AITA for cancelling plans to babysit because I...     False   \n",
       "\n",
       "       edited  \n",
       "0       False  \n",
       "1       False  \n",
       "2       False  \n",
       "3       False  \n",
       "4       False  \n",
       "...       ...  \n",
       "13905   False  \n",
       "13906   False  \n",
       "13907   False  \n",
       "13908   False  \n",
       "13909   False  \n",
       "\n",
       "[13910 rows x 4 columns]"
      ]
     },
     "execution_count": 5,
     "metadata": {},
     "output_type": "execute_result"
    }
   ],
   "source": [
    "df_train_v1"
   ]
  },
  {
   "cell_type": "code",
   "execution_count": 6,
   "id": "cf2f5d35",
   "metadata": {},
   "outputs": [],
   "source": [
    "# drop last two columns\n",
    "df_test_v1.drop(['is_short', 'edited'], axis=1, inplace=True)\n",
    "df_train_v1.drop(['is_short', 'edited'], axis=1, inplace=True)"
   ]
  },
  {
   "cell_type": "code",
   "execution_count": 7,
   "id": "594a953b",
   "metadata": {},
   "outputs": [],
   "source": [
    "# replace binary labels with categorical labels, which will be eventually predicted by delphi\n",
    "df_test_v1.label.replace((1, 0), ('not okay', 'okay'), inplace=True)"
   ]
  },
  {
   "cell_type": "code",
   "execution_count": 8,
   "id": "2c52e1ee",
   "metadata": {},
   "outputs": [],
   "source": [
    "df_train_v1.label.replace((1, 0), ('not okay', 'okay'), inplace=True)"
   ]
  },
  {
   "cell_type": "code",
   "execution_count": 9,
   "id": "ee59c6e9",
   "metadata": {},
   "outputs": [
    {
     "data": {
      "text/plain": [
       "(3885, 2)"
      ]
     },
     "execution_count": 9,
     "metadata": {},
     "output_type": "execute_result"
    }
   ],
   "source": [
    "# check shapes; we'll split df_train_v1 to create a final train and dev set, ratio 1:1\n",
    "df_test_v1.shape"
   ]
  },
  {
   "cell_type": "code",
   "execution_count": 10,
   "id": "d9d0599c",
   "metadata": {},
   "outputs": [
    {
     "data": {
      "text/plain": [
       "(13910, 2)"
      ]
     },
     "execution_count": 10,
     "metadata": {},
     "output_type": "execute_result"
    }
   ],
   "source": [
    "df_train_v1.shape"
   ]
  },
  {
   "cell_type": "code",
   "execution_count": 11,
   "id": "e8f2afbf",
   "metadata": {},
   "outputs": [],
   "source": [
    "df_train = df_train_v1.sample(frac=0.5)"
   ]
  },
  {
   "cell_type": "code",
   "execution_count": 12,
   "id": "fcdb4284",
   "metadata": {},
   "outputs": [],
   "source": [
    "df_dev = df_train_v1.drop(df_train.index)"
   ]
  },
  {
   "cell_type": "code",
   "execution_count": 13,
   "id": "ccd7682d",
   "metadata": {},
   "outputs": [],
   "source": [
    "# changing name of the v1 test set, bc it is final now\n",
    "df_test = df_test_v1"
   ]
  },
  {
   "cell_type": "code",
   "execution_count": 17,
   "id": "b400d002",
   "metadata": {},
   "outputs": [],
   "source": [
    "ethics_freeform_train = df_train"
   ]
  },
  {
   "cell_type": "code",
   "execution_count": 18,
   "id": "0487e19b",
   "metadata": {},
   "outputs": [],
   "source": [
    "ethics_freeform_dev = df_dev"
   ]
  },
  {
   "cell_type": "code",
   "execution_count": 19,
   "id": "6b70705a",
   "metadata": {},
   "outputs": [],
   "source": [
    "ethics_freeform_test = df_test"
   ]
  },
  {
   "cell_type": "code",
   "execution_count": 29,
   "id": "bfd076e4",
   "metadata": {},
   "outputs": [],
   "source": [
    "ethics_freeform_train.to_csv(r'C:\\Users\\maret/Thesis/prepped_csv/ethics_freeform_train.csv')\n",
    "ethics_freeform_dev.to_csv(r'C:\\Users\\maret/Thesis/prepped_csv/ethics_freeform_dev.csv')\n",
    "ethics_freeform_test.to_csv(r'C:\\Users\\maret/Thesis/prepped_csv/ethics_freeform_test.csv')"
   ]
  }
 ],
 "metadata": {
  "kernelspec": {
   "display_name": "Python 3",
   "language": "python",
   "name": "python3"
  },
  "language_info": {
   "codemirror_mode": {
    "name": "ipython",
    "version": 3
   },
   "file_extension": ".py",
   "mimetype": "text/x-python",
   "name": "python",
   "nbconvert_exporter": "python",
   "pygments_lexer": "ipython3",
   "version": "3.8.8"
  }
 },
 "nbformat": 4,
 "nbformat_minor": 5
}
